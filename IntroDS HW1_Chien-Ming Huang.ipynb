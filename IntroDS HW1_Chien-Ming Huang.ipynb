{
 "cells": [
  {
   "cell_type": "markdown",
   "metadata": {},
   "source": [
    "## Introduction To Data Science HW1 Python Tutorial  ( Strings, Lists, Dicts, Sorting)\n"
   ]
  },
  {
   "cell_type": "markdown",
   "metadata": {},
   "source": [
    "# Strings"
   ]
  },
  {
   "cell_type": "code",
   "execution_count": 40,
   "metadata": {},
   "outputs": [
    {
     "name": "stdout",
     "output_type": "stream",
     "text": [
      "Hello World!\n",
      "Hello World!\n",
      "Hello World!\n"
     ]
    }
   ],
   "source": [
    "# Data in the string represents the same stuff no matter using single/double/triple quotes\n",
    "string1= 'Hello World!'\n",
    "string2= \"Hello World!\"\n",
    "string3= '''Hello World!'''\n",
    "print (string1)\n",
    "print (string2)\n",
    "print (string3)"
   ]
  },
  {
   "cell_type": "code",
   "execution_count": 41,
   "metadata": {},
   "outputs": [
    {
     "name": "stdout",
     "output_type": "stream",
     "text": [
      "string1[0]: H\n",
      "string1[1:7]: ello W\n",
      "string1[1:]: ello World!\n",
      "string1[:3]: Hel\n",
      "string1[-2]: d\n",
      "string1[-2:]: d!\n"
     ]
    }
   ],
   "source": [
    "# Print the index in the string, we can see that the index number starts from 0, and space also has the length with 1\n",
    "# string1[1:7] shows the index 1~6, string1[1:] shows the index from index 1, string1[:3] shows the index 1~2\n",
    "# string1[-2] shows the string from the right the second index,\n",
    "# string1[-2:] shows the string from the right starts from the index 2 and count from left to right\n",
    "print (\"string1[0]:\", string1[0])\n",
    "print (\"string1[1:7]:\", string1[1:7])\n",
    "print (\"string1[1:]:\", string1[1:])\n",
    "print (\"string1[:3]:\", string1[:3])\n",
    "print (\"string1[-2]:\", string1[-2])\n",
    "print (\"string1[-2:]:\", string1[-2:])\n"
   ]
  },
  {
   "cell_type": "code",
   "execution_count": 42,
   "metadata": {},
   "outputs": [
    {
     "name": "stdout",
     "output_type": "stream",
     "text": [
      "paparazzi\n"
     ]
    }
   ],
   "source": [
    "# String concatenation( using \" + \") and repetition (using \" * \") to change the string\n",
    "print (\"pa\" * 2 + \"razzi\")"
   ]
  },
  {
   "cell_type": "code",
   "execution_count": 43,
   "metadata": {},
   "outputs": [
    {
     "name": "stdout",
     "output_type": "stream",
     "text": [
      "This course has a class starts from Monday 10 AM and the location is in Newark\n"
     ]
    }
   ],
   "source": [
    "# String formating operator\n",
    "# %d means the signed decimal interger, and %s means the string conversion via str()\n",
    "print (\"This course has a class starts from Monday %d AM and the location is in %s\" % (10, \"Newark\") )\n"
   ]
  },
  {
   "cell_type": "code",
   "execution_count": 118,
   "metadata": {},
   "outputs": [
    {
     "name": "stdout",
     "output_type": "stream",
     "text": [
      "As the saying goes, \"Nothing ventured, nothing gained.\" \n",
      "Transcript: \n",
      " Math: 100 \n",
      " English: 100\n"
     ]
    }
   ],
   "source": [
    "# String escaping using backslash \\ to show the character after \\\n",
    "# For example like \\' can show ' in the string, \\n means change to another line\n",
    "print (\"As the saying goes, \\\"Nothing ventured, nothing gained.\\\" \")\n",
    "print (\"Transcript: \\n Math: 100 \\n English: 100\")      \n"
   ]
  },
  {
   "cell_type": "code",
   "execution_count": 119,
   "metadata": {},
   "outputs": [
    {
     "name": "stdout",
     "output_type": "stream",
     "text": [
      "Hello World!\n"
     ]
    },
    {
     "data": {
      "text/plain": [
       "12"
      ]
     },
     "execution_count": 119,
     "metadata": {},
     "output_type": "execute_result"
    }
   ],
   "source": [
    "# len() function will calculate the string lengths\n",
    "print (string1)\n",
    "len(string1)"
   ]
  },
  {
   "cell_type": "code",
   "execution_count": 103,
   "metadata": {},
   "outputs": [
    {
     "name": "stdout",
     "output_type": "stream",
     "text": [
      "1\n",
      "-1\n"
     ]
    }
   ],
   "source": [
    "# find() function will find the index value of the string and if the return value is -1 means not found\n",
    "print (string1.find('el'))\n",
    "print (string1.find('al'))\n"
   ]
  },
  {
   "cell_type": "markdown",
   "metadata": {},
   "source": [
    "# Lists"
   ]
  },
  {
   "cell_type": "code",
   "execution_count": 121,
   "metadata": {},
   "outputs": [
    {
     "name": "stdout",
     "output_type": "stream",
     "text": [
      "list1[0]: a\n",
      "list2[2:]: ['English', 'French', 'Mandarin']\n",
      "list2[1:3]: ['Pysics', 'English']\n",
      "list2[-2:]: ['French', 'Mandarin']\n"
     ]
    }
   ],
   "source": [
    "# List example and see the value at those index in the list, the index rule is the same as previous mentioned \n",
    "list1= [\"a\", \"b\", \"c\"]\n",
    "list2= [\"Math\", \"Pysics\", \"English\", \"French\", \"Mandarin\"]\n",
    "print (\"list1[0]:\", list1[0])\n",
    "print (\"list2[2:]:\", list2[2:])\n",
    "print (\"list2[1:3]:\", list2[1:3])\n",
    "print (\"list2[-2:]:\", list2[-2:])"
   ]
  },
  {
   "cell_type": "code",
   "execution_count": 122,
   "metadata": {},
   "outputs": [
    {
     "name": "stdout",
     "output_type": "stream",
     "text": [
      "original list2[3]: French\n",
      "new list2[3]: Drama\n",
      "after delete the new list2[3]: Mandarin\n"
     ]
    }
   ],
   "source": [
    "# List updates and delete\n",
    "print (\"original list2[3]:\", list2[3])\n",
    "list2[3]= \"Drama\"\n",
    "print(\"new list2[3]:\", list2[3])\n",
    "del list2[3]\n",
    "print (\"after delete the new list2[3]:\", list2[3])"
   ]
  },
  {
   "cell_type": "code",
   "execution_count": 77,
   "metadata": {},
   "outputs": [
    {
     "data": {
      "text/plain": [
       "['a', 'b', 'c', 1, 2, 3, 1, 2, 3]"
      ]
     },
     "execution_count": 77,
     "metadata": {},
     "output_type": "execute_result"
    }
   ],
   "source": [
    "# List concatenation( using \" + \") and repetition (using \" * \")\n",
    "[\"a\", \"b\", \"c\"] + [1, 2, 3]*2"
   ]
  },
  {
   "cell_type": "code",
   "execution_count": 123,
   "metadata": {},
   "outputs": [
    {
     "name": "stdout",
     "output_type": "stream",
     "text": [
      "[['a', 'b', 'c'], ['Math', 'Pysics', 'English', 'Mandarin']]\n",
      "['Math', 'Pysics', 'English', 'Mandarin']\n",
      "English\n"
     ]
    }
   ],
   "source": [
    "# Nest List, previous we define list1, list2, now we can combine list1 and list2 to build a list3\n",
    "list3= [list1, list2]\n",
    "print (list3)\n",
    "print (list3[1]) # show the value of index 1 in the list3, and that will be list2\n",
    "print (list3[1][2]) # It will search the value of index 1 in the list3, and only show the value of index 2 in the list2"
   ]
  },
  {
   "cell_type": "code",
   "execution_count": 124,
   "metadata": {},
   "outputs": [
    {
     "name": "stdout",
     "output_type": "stream",
     "text": [
      "['a', 'b', 'c']\n"
     ]
    },
    {
     "data": {
      "text/plain": [
       "3"
      ]
     },
     "execution_count": 124,
     "metadata": {},
     "output_type": "execute_result"
    }
   ],
   "source": [
    "# len(list) function to find the length of the list\n",
    "print (list1)\n",
    "len(list1)"
   ]
  },
  {
   "cell_type": "code",
   "execution_count": 132,
   "metadata": {},
   "outputs": [
    {
     "data": {
      "text/plain": [
       "71"
      ]
     },
     "execution_count": 132,
     "metadata": {},
     "output_type": "execute_result"
    }
   ],
   "source": [
    "# max() to find the max value in the list\n",
    "list4= [1, 3, 24, 51, 13, 2,66, 71, 33]\n",
    "max(list4)\n"
   ]
  },
  {
   "cell_type": "code",
   "execution_count": 128,
   "metadata": {},
   "outputs": [
    {
     "data": {
      "text/plain": [
       "1"
      ]
     },
     "execution_count": 128,
     "metadata": {},
     "output_type": "execute_result"
    }
   ],
   "source": [
    "# min() function to find the min value in the list\n",
    "min(list4)"
   ]
  },
  {
   "cell_type": "code",
   "execution_count": 133,
   "metadata": {},
   "outputs": [
    {
     "name": "stdout",
     "output_type": "stream",
     "text": [
      "[1, 3, 24, 51, 13, 2, 66, 71, 33, 216]\n"
     ]
    }
   ],
   "source": [
    "# append() function to add new items in the list\n",
    "list4.append(216)\n",
    "print (list4)"
   ]
  },
  {
   "cell_type": "markdown",
   "metadata": {},
   "source": [
    "# Sorting"
   ]
  },
  {
   "cell_type": "code",
   "execution_count": 134,
   "metadata": {},
   "outputs": [
    {
     "name": "stdout",
     "output_type": "stream",
     "text": [
      "[1, 3, 13, 24, 51]\n"
     ]
    }
   ],
   "source": [
    "# basic sorting with sort() function\n",
    "list5= [1, 3, 24, 51, 13]\n",
    "list5.sort()\n",
    "print (list5)\n"
   ]
  },
  {
   "cell_type": "code",
   "execution_count": 136,
   "metadata": {},
   "outputs": [
    {
     "name": "stdout",
     "output_type": "stream",
     "text": [
      "['a', 'c', 'f', 'g', 'w']\n",
      "['d', 'i', 'n', 'o', 'w', 'w']\n"
     ]
    }
   ],
   "source": [
    "# sorted() function to sort the string and list\n",
    "list6= ['a', 'c', 'w', 'f', 'g']\n",
    "print(sorted(list6))\n",
    "string4= \"window\"\n",
    "print(sorted(string4))"
   ]
  },
  {
   "cell_type": "code",
   "execution_count": 137,
   "metadata": {},
   "outputs": [
    {
     "name": "stdout",
     "output_type": "stream",
     "text": [
      "['w', 'g', 'f', 'c', 'a']\n",
      "['t', 'r', 'i', 'e', 'c', 'b', 'a', 'a']\n"
     ]
    }
   ],
   "source": [
    "# sorted() function also has the reverse parameter to sort in descending order\n",
    "list7= ['a', 'c', 'w', 'f', 'g']\n",
    "print(sorted(list6, reverse= True))\n",
    "string5= \"bacteria\"\n",
    "print(sorted(string5, reverse= True))"
   ]
  },
  {
   "cell_type": "code",
   "execution_count": 141,
   "metadata": {},
   "outputs": [
    {
     "name": "stdout",
     "output_type": "stream",
     "text": [
      "['and', 'chasing', 'chasing', 'money', 'passion', 'start', 'Stop', 'the', 'the']\n"
     ]
    }
   ],
   "source": [
    "# sorted() function can use the key parameter to make the comparsion in the sorting\n",
    "string6= \"Stop chasing the money and start chasing the passion\"\n",
    "print(sorted(string6.split(), key=str.lower)) # in this case it sorts use the key str.lower"
   ]
  },
  {
   "cell_type": "code",
   "execution_count": 152,
   "metadata": {},
   "outputs": [
    {
     "data": {
      "text/plain": [
       "[('Chimistry', 20, 'Walter'), ('English', 30, 'Tom'), ('Math', 40, 'Jimmy')]"
      ]
     },
     "execution_count": 152,
     "metadata": {},
     "output_type": "execute_result"
    }
   ],
   "source": [
    "# sorted() function also can use the lambda parameter to do the sort\n",
    "def sortkey(tuple1): # define sortkey function \n",
    "   return tuple1[1] \n",
    "tuple1= [\n",
    "    ('Math', 40, 'Jimmy'),\n",
    "    ('English', 30, 'Tom'),\n",
    "    ('Chimistry', 20, 'Walter')\n",
    "] # ('Class Name', Class Size, 'Teaching Professor's Name')\n",
    "sorted(tuple1, key=lambda size:size[1]) # compare the index 1(class size) to sort"
   ]
  },
  {
   "cell_type": "markdown",
   "metadata": {},
   "source": [
    "# Dicts"
   ]
  },
  {
   "cell_type": "code",
   "execution_count": 54,
   "metadata": {},
   "outputs": [
    {
     "name": "stdout",
     "output_type": "stream",
     "text": [
      "dict['Class']:  Math\n",
      "dict['Teaching Professor']:  Jimmy\n"
     ]
    }
   ],
   "source": [
    "# Dicts Example and how to find specific dict\n",
    "dict = {'Class': 'Math', 'Class Size': 40, 'Teaching Professor': 'Jimmy'}\n",
    "print (\"dict['Class']: \", dict['Class'])\n",
    "print (\"dict['Teaching Professor']: \", dict['Teaching Professor'])\n"
   ]
  },
  {
   "cell_type": "code",
   "execution_count": 58,
   "metadata": {},
   "outputs": [
    {
     "name": "stdout",
     "output_type": "stream",
     "text": [
      "{'Class': 'Math', 'Class Size': 40, 'Teaching Professor': 'Jimmy', 'Location': 'Newark', 'School': 'Rutgers Business School'}\n",
      "{'Class': 'Math', 'Class Size': 40, 'Teaching Professor': 'Jimmy', 'School': 'Rutgers Business School'}\n"
     ]
    }
   ],
   "source": [
    "# Updates and Deletes the Dicts\n",
    "dict['Location'] = \"Newark\"; # update existing entry in the dict\n",
    "dict['School'] = \"Rutgers Business School\" # Add new entry in the dict\n",
    "print (dict)\n",
    "del dict['Location']\n",
    "print (dict) "
   ]
  },
  {
   "cell_type": "code",
   "execution_count": 60,
   "metadata": {},
   "outputs": [
    {
     "data": {
      "text/plain": [
       "4"
      ]
     },
     "execution_count": 60,
     "metadata": {},
     "output_type": "execute_result"
    }
   ],
   "source": [
    "# len(dict) function shows the total length of dict\n",
    "len(dict)"
   ]
  },
  {
   "cell_type": "code",
   "execution_count": 61,
   "metadata": {},
   "outputs": [
    {
     "data": {
      "text/plain": [
       "\"{'Class': 'Math', 'Class Size': 40, 'Teaching Professor': 'Jimmy', 'School': 'Rutgers Business School'}\""
      ]
     },
     "execution_count": 61,
     "metadata": {},
     "output_type": "execute_result"
    }
   ],
   "source": [
    "# str(dict) function gives the dict a printable string\n",
    "str(dict)"
   ]
  },
  {
   "cell_type": "code",
   "execution_count": 107,
   "metadata": {},
   "outputs": [
    {
     "data": {
      "text/plain": [
       "dict_values(['Math', 40, 'Jimmy', 'Rutgers Business School'])"
      ]
     },
     "execution_count": 107,
     "metadata": {},
     "output_type": "execute_result"
    }
   ],
   "source": [
    "# value function gives a list with all the assigned values in the dictionary\n",
    "dict.values()"
   ]
  },
  {
   "cell_type": "code",
   "execution_count": 110,
   "metadata": {},
   "outputs": [
    {
     "data": {
      "text/plain": [
       "dict_items([('Class', 'Math'), ('Class Size', 40), ('Teaching Professor', 'Jimmy'), ('School', 'Rutgers Business School')])"
      ]
     },
     "execution_count": 110,
     "metadata": {},
     "output_type": "execute_result"
    }
   ],
   "source": [
    "# items function gives a list but each element in the dictionary is inside a tuple\n",
    "dict.items()"
   ]
  },
  {
   "cell_type": "code",
   "execution_count": 116,
   "metadata": {},
   "outputs": [
    {
     "name": "stdout",
     "output_type": "stream",
     "text": [
      "{}\n"
     ]
    }
   ],
   "source": [
    "# clear() function clears all the entries in the dictionary\n",
    "dict.clear()\n",
    "print (dict)"
   ]
  },
  {
   "cell_type": "markdown",
   "metadata": {},
   "source": [
    "# Reference"
   ]
  },
  {
   "cell_type": "markdown",
   "metadata": {},
   "source": [
    "1. https://www.tutorialspoint.com/python3/python_strings.htm \n",
    "2. https://www.tutorialspoint.com/python3/python_lists.htm \n",
    "3. https://www.tutorialspoint.com/python3/python_dictionary.htm \n",
    "4. https://docs.python.org/3/tutorial/introduction.html#strings \n",
    "5. http://nbviewer.jupyter.org/github/rajathkumarmp/Python-Lectures/blob/master/03.ipynb \n",
    "6. http://nbviewer.jupyter.org/github/rajathkumarmp/Python-Lectures/blob/master/04.ipynb \n",
    "7. https://www.programiz.com/python-programming/methods/built-in/sorted \n",
    "8. https://wiki.python.org/moin/HowTo/Sorting \n",
    "9. http://pythoncentral.io/lambda-function-syntax-inline-functions-in-python/\n",
    "\n"
   ]
  }
 ],
 "metadata": {
  "kernelspec": {
   "display_name": "Python 3",
   "language": "python",
   "name": "python3"
  },
  "language_info": {
   "codemirror_mode": {
    "name": "ipython",
    "version": 3
   },
   "file_extension": ".py",
   "mimetype": "text/x-python",
   "name": "python",
   "nbconvert_exporter": "python",
   "pygments_lexer": "ipython3",
   "version": "3.6.1"
  }
 },
 "nbformat": 4,
 "nbformat_minor": 2
}
