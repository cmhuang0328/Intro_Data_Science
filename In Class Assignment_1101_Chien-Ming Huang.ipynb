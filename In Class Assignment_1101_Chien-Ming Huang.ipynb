{
 "cells": [
  {
   "cell_type": "markdown",
   "metadata": {},
   "source": [
    "# In class Assignment 1101"
   ]
  },
  {
   "cell_type": "code",
   "execution_count": 7,
   "metadata": {},
   "outputs": [
    {
     "name": "stdout",
     "output_type": "stream",
     "text": [
      "Using data directory: /Users/ChienMingHuang/.bokeh/data\n",
      "Downloading: CGM.csv (1589982 bytes)\n",
      "   1589982 [100.00%]\n",
      "Downloading: US_Counties.zip (3182088 bytes)\n",
      "   3182088 [100.00%]\n",
      "Unpacking: US_Counties.csv\n",
      "Downloading: us_cities.json (713565 bytes)\n",
      "    713565 [100.00%]\n",
      "Downloading: unemployment09.csv (253301 bytes)\n",
      "    253301 [100.00%]\n",
      "Downloading: AAPL.csv (166698 bytes)\n",
      "    166698 [100.00%]\n",
      "Downloading: FB.csv (9706 bytes)\n",
      "      9706 [100.00%]\n",
      "Downloading: GOOG.csv (113894 bytes)\n",
      "    113894 [100.00%]\n",
      "Downloading: IBM.csv (165625 bytes)\n",
      "    165625 [100.00%]\n",
      "Downloading: MSFT.csv (161614 bytes)\n",
      "    161614 [100.00%]\n",
      "Downloading: WPP2012_SA_DB03_POPULATION_QUINQUENNIAL.zip (5148539 bytes)\n",
      "   5148539 [100.00%]\n",
      "Unpacking: WPP2012_SA_DB03_POPULATION_QUINQUENNIAL.csv\n",
      "Downloading: gapminder_fertility.csv (64346 bytes)\n",
      "     64346 [100.00%]\n",
      "Downloading: gapminder_population.csv (94509 bytes)\n",
      "     94509 [100.00%]\n",
      "Downloading: gapminder_life_expectancy.csv (73243 bytes)\n",
      "     73243 [100.00%]\n",
      "Downloading: gapminder_regions.csv (7781 bytes)\n",
      "      7781 [100.00%]\n",
      "Downloading: world_cities.zip (646858 bytes)\n",
      "    646858 [100.00%]\n",
      "Unpacking: world_cities.csv\n",
      "Downloading: airports.json (6373 bytes)\n",
      "      6373 [100.00%]\n",
      "Downloading: movies.db.zip (5067833 bytes)\n",
      "   5067833 [100.00%]\n",
      "Unpacking: movies.db\n"
     ]
    }
   ],
   "source": [
    "# Import bokeh.io show module\n",
    "from bokeh.io import show\n",
    "# Import bokeh.models ColumnDataSource, HoverTool, LogColorMapper those modules\n",
    "from bokeh.models import (\n",
    "    ColumnDataSource,\n",
    "    HoverTool,\n",
    "    LogColorMapper\n",
    ")\n",
    "# Import bokeh.palettes Viridis6 module and give the alias as palette\n",
    "from bokeh.palettes import Viridis6 as palette\n",
    "# Import bokeh.plotting figure module\n",
    "from bokeh.plotting import figure\n",
    "# Import bokeh.sampledata module\n",
    "import bokeh.sampledata\n",
    "# Download bokeh.sampledata\n",
    "bokeh.sampledata.download()\n",
    "# Import bokeh.sampledata.us_counties data module and give it alias as counties\n",
    "from bokeh.sampledata.us_counties import data as counties\n",
    "# Import bokeh.sampledata.unemploymen data module and give it alias as unemployment\n",
    "from bokeh.sampledata.unemployment import data as unemployment"
   ]
  },
  {
   "cell_type": "code",
   "execution_count": 9,
   "metadata": {
    "collapsed": true
   },
   "outputs": [],
   "source": [
    "# Use paletter reverse function\n",
    "palette.reverse()\n",
    "# Set countries this parameter that county for code, and get the new jersey from counties.items() using if county[\"state\"] == \"nj\"\n",
    "counties = {\n",
    "    code: county for code, county in counties.items() if county[\"state\"] == \"nj\"\n",
    "}\n",
    "# Set county_xs as county[\"lons\"](longitude) for county and get the values in counties.values()\n",
    "county_xs = [county[\"lons\"] for county in counties.values()]\n",
    "# Set county_ys as county[\"lats\"](Latitude) for county and get the values in counties.values()\n",
    "county_ys = [county[\"lats\"] for county in counties.values()]\n",
    "# Set county_names as county['name'] for county and get the values in counties.values()\n",
    "county_names = [county['name'] for county in counties.values()]\n",
    "# Set county_rates as unemployment[county_id] for county_id and get the values in counties\n",
    "county_rates = [unemployment[county_id] for county_id in counties]\n",
    "# Set color_mapper use LogColorMapper function with palette=palette\n",
    "color_mapper = LogColorMapper(palette=palette)\n",
    "# Set source as ColumnDataSource function with data as dicts that x=county_xs, y=county_ys, name=county_names,rate=county_rates,\n",
    "source = ColumnDataSource(data=dict(\n",
    "    x=county_xs,\n",
    "    y=county_ys,\n",
    "    name=county_names,\n",
    "    rate=county_rates,\n",
    "))\n",
    "# Set Tools with those functions \"pan,wheel_zoom,reset,hover,save\" for later use in figure function\n",
    "TOOLS = \"pan,wheel_zoom,reset,hover,save\"\n",
    "# Set p as figure function with title=\"New Jersey Unemployment, 2009\" and tools=TOOLS, and without x,y axis using x_axis_location=None, y_axis_location=None\n",
    "p = figure(\n",
    "    title=\"New Jersey Unemployment, 2009\", tools=TOOLS,\n",
    "    x_axis_location=None, y_axis_location=None\n",
    ")\n",
    "# Remove grid_line_color using p.grid.grid_line_color = None\n",
    "p.grid.grid_line_color = None\n",
    "# Set p.patches as x= 'x', y='y', source=source, and fill_color using the rate as identifer for fill_color={'field': 'rate', 'transform': color_mapper} and set fill_alpha=0.7, line_color=\"white\", line_width=0.5 \n",
    "p.patches('x', 'y', source=source,\n",
    "          fill_color={'field': 'rate', 'transform': color_mapper},\n",
    "          fill_alpha=0.7, line_color=\"white\", line_width=0.5)\n",
    "# Set hover as p.select_one(HoverTool) for later photo HoverTool function\n",
    "hover = p.select_one(HoverTool)\n",
    "# Set hover.point_policy = \"follow_mouse\" means using mouse for hovering the photos\n",
    "hover.point_policy = \"follow_mouse\"\n",
    "# Set hover.tooltips as (\"Name\", \"@name\"),(\"Unemployment rate)\", \"@rate%\"),(\"(Long, Lat)\", \"($x, $y)\") when later hovering photos can show the county name, unemployment rate in that county, longitude and latitude\n",
    "hover.tooltips = [\n",
    "    (\"Name\", \"@name\"),\n",
    "    (\"Unemployment rate)\", \"@rate%\"),\n",
    "    (\"(Long, Lat)\", \"($x, $y)\"),\n",
    "]\n",
    "# Show photos use show(p)\n",
    "show(p)"
   ]
  }
 ],
 "metadata": {
  "kernelspec": {
   "display_name": "Python 3",
   "language": "python",
   "name": "python3"
  },
  "language_info": {
   "codemirror_mode": {
    "name": "ipython",
    "version": 3
   },
   "file_extension": ".py",
   "mimetype": "text/x-python",
   "name": "python",
   "nbconvert_exporter": "python",
   "pygments_lexer": "ipython3",
   "version": "3.6.1"
  }
 },
 "nbformat": 4,
 "nbformat_minor": 2
}
