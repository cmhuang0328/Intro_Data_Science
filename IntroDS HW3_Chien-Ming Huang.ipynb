{
 "cells": [
  {
   "cell_type": "markdown",
   "metadata": {},
   "source": [
    "# Introduction To Data Science HW3 Python Tutorial  ( NumPy, SciPy)"
   ]
  },
  {
   "cell_type": "markdown",
   "metadata": {},
   "source": [
    "# NumPy\n",
    "NumPy, which stands for Numerical Python, is a python library that provides a high-performance multidimensional array object, and tools for working with these arrays. Its function is very similar like Matlab."
   ]
  },
  {
   "cell_type": "code",
   "execution_count": 2,
   "metadata": {
    "collapsed": true
   },
   "outputs": [],
   "source": [
    "# Import NumPy library first\n",
    "import numpy as np"
   ]
  },
  {
   "cell_type": "code",
   "execution_count": 47,
   "metadata": {},
   "outputs": [
    {
     "name": "stdout",
     "output_type": "stream",
     "text": [
      "array1:\n",
      "[[1 2 3]\n",
      " [4 5 6]\n",
      " [7 8 9]]\n",
      "array type: <class 'numpy.ndarray'>\n",
      "complexarray:\n",
      "[[ 1.+2.j  2.-1.j]\n",
      " [ 3.+0.j  4.+0.j]]\n",
      "rangearray:\n",
      "[ 1  3  5  7  9 11 13 15 17 19 21 23 25]\n"
     ]
    }
   ],
   "source": [
    "# NumPy array is a grid of values. \n",
    "# The rank of the array is the number of dimensions. \n",
    "# The shape of the array is the size of the array for each dimension.\n",
    "# Array basic array\n",
    "array1= np.array([[1, 2, 3], [4, 5, 6], [7, 8, 9]]) # produce a rank 3 array\n",
    "print('array1:')\n",
    "print(array1) # print [[1 2 3]\n",
    "              #        [4 5 6]\n",
    "              #        [7 8 9]]\n",
    "print('array type:', type(array1)) # know what type is the array1\n",
    "\n",
    "# NumPy also can create complex array\n",
    "complexarray = np.array( [ [1. + 2.j, 2. - 1.j], [3. + 0.j, 4. + 0.j] ], dtype=complex )\n",
    "print('complexarray:')\n",
    "print(complexarray)\n",
    "\n",
    "# NumPy also can create sequence of numbers\n",
    "rangearray = np.arange( 1, 27, 2 ) # start from 1, end at 27, increase 2\n",
    "print('rangearray:')\n",
    "print(rangearray)"
   ]
  },
  {
   "cell_type": "code",
   "execution_count": 37,
   "metadata": {},
   "outputs": [
    {
     "name": "stdout",
     "output_type": "stream",
     "text": [
      "array1 rank: 2\n",
      "array1 shape: (3, 3)\n",
      "array1 size: 9\n",
      "array1 dtype: int64\n",
      "array1 itemsize: 8\n"
     ]
    }
   ],
   "source": [
    "# Get the array details\n",
    "print('array1 rank:', array1.ndim)  # get the number of dimension(rank) of the array\n",
    "print('array1 shape:', array1.shape) # get the dimension of the array, for a matrix with n rows and m columns, shape will be (n,m)\n",
    "print('array1 size:', array1.size)  # get the total number of elements of the array which equals to the product of the shape\n",
    "print('array1 dtype:', array1.dtype) # get the object describing the type of the elements in the array\n",
    "print('array1 itemsize:', array1.itemsize) # get the size in bytes of each element of the array for this example, int64 has itemsize 8(64/8)"
   ]
  },
  {
   "cell_type": "code",
   "execution_count": 19,
   "metadata": {},
   "outputs": [
    {
     "name": "stdout",
     "output_type": "stream",
     "text": [
      "2 9 6\n"
     ]
    }
   ],
   "source": [
    "# Select the element in the array\n",
    "print( array1[0, 1], array1[2, 2], array1[1, 2]) # just like lists starts from 0, so this will print 2 9 6"
   ]
  },
  {
   "cell_type": "code",
   "execution_count": 33,
   "metadata": {},
   "outputs": [
    {
     "name": "stdout",
     "output_type": "stream",
     "text": [
      "Matrix1:\n",
      "[[ 0.  0.  0.]\n",
      " [ 0.  0.  0.]\n",
      " [ 0.  0.  0.]]\n",
      "Matrix2:\n",
      " [[ 1.  1.]\n",
      " [ 1.  1.]\n",
      " [ 1.  1.]]\n",
      "Matrix3:\n",
      " [[24 24]\n",
      " [24 24]\n",
      " [24 24]]\n",
      "Matrix4:\n",
      " [[ 1.  0.  0.]\n",
      " [ 0.  1.  0.]\n",
      " [ 0.  0.  1.]]\n",
      "Matrix5:\n",
      " [[ 0.15433284  0.82857403]\n",
      " [ 0.2207509   0.43730013]\n",
      " [ 0.22490314  0.36905379]]\n"
     ]
    }
   ],
   "source": [
    "# Create a 3*3 all zeros matrix\n",
    "matrix1 = np.zeros((3,3))   \n",
    "print('Matrix1:')\n",
    "print(matrix1) # print [[ 0.  0.  0.]\n",
    "               #        [ 0.  0.  0.]\n",
    "               #        [ 0.  0.  0.]]\n",
    "    \n",
    "# Create a 3*2 all ones matrix\n",
    "matrix2 = np.ones((3,2))\n",
    "print('Matrix2:')\n",
    "print(matrix2) # print [[ 1.  1.]\n",
    "               #        [ 1.  1.]\n",
    "               #        [ 1.  1.]]\n",
    "\n",
    "# Create a 3*2 constant= 24 matrix\n",
    "matrix3 = np.full((3,2), 24)  \n",
    "print('Matrix3:')\n",
    "print(matrix3) # print [[ 24.  24.]\n",
    "               #        [ 24.  24.]\n",
    "               #        [ 24.  24.]]\n",
    "\n",
    "# Create an 3*3 identiy matrix \n",
    "matrix4 = np.eye(3) \n",
    "print('Matrix4:')\n",
    "print(matrix4) # print [[ 1.  0.  0.]\n",
    "               #        [ 0.  1.  0.]\n",
    "               #        [ 0.  0.  1.]]\n",
    "\n",
    "# Create a 3*2 random matrix\n",
    "matrix5 = np.random.random((3,2))\n",
    "print('Matrix5:')\n",
    "print('matrix5)                    "
   ]
  },
  {
   "cell_type": "code",
   "execution_count": 65,
   "metadata": {},
   "outputs": [
    {
     "name": "stdout",
     "output_type": "stream",
     "text": [
      "Array2:\n",
      "[[ 1  2  3  4]\n",
      " [ 5  6  7  8]\n",
      " [ 9 10 11 12]\n",
      " [13 14 15 16]]\n",
      "Array3:\n",
      "[[2 3]\n",
      " [6 7]]\n",
      "Array2[1,2]:\n",
      "7\n",
      "New Array3:\n",
      "[[ 2  3]\n",
      " [ 6 22]]\n"
     ]
    }
   ],
   "source": [
    "# Array Indexing\n",
    "array2 = np.array([[1,2,3,4], [5,6,7,8], [9,10,11,12], [13,14,15,16]])\n",
    "print('Array2:')\n",
    "print(array2)\n",
    "# Print an array [[ 1  2  3  4]\n",
    "#                 [ 5  6  7  8]\n",
    "#                 [ 9 10 11 12]\n",
    "#                 [13 14 15 16]]    \n",
    "\n",
    "# Array Slicing, methods similar to Python lists\n",
    "array3 = array2[:2, 1:3] # slice for row 0, 1 for :2, and slice for column 1, 2 for 1:3\n",
    "print('Array3:')\n",
    "print(array3) # print [[ 2  3]\n",
    "              #        [ 6  7]]\n",
    "print('Array2[1,2]:')    \n",
    "print(array2[1, 2]) # print '7'\n",
    "\n",
    "# Change the array element\n",
    "array3[1, 1]= 22 # change array3 original 7 to 22\n",
    "print('New Array3:')\n",
    "print(array3) # print [[2  3]\n",
    "              #        [6 22]]"
   ]
  },
  {
   "cell_type": "code",
   "execution_count": 68,
   "metadata": {},
   "outputs": [
    {
     "name": "stdout",
     "output_type": "stream",
     "text": [
      "1st method integer array indexing:\n",
      "[ 1  6  8 15]\n",
      "2nd method integer array indexing:\n",
      "[ 1  6  8 15]\n"
     ]
    }
   ],
   "source": [
    "# Integer Array Indexing: NumPy also can do integer array indexing with below methods\n",
    "array2 = np.array([[1,2,3,4], [5,6,7,8], [9,10,11,12], [13,14,15,16]])\n",
    "\n",
    "# 1st method can do like this, 1st[] mentions rows, 2nd[] mentions columns\n",
    "print('1st method integer array indexing:')\n",
    "print(array2[[0, 1, 1, 3], [0, 1, 3, 2]]) # print [1, 6, 8, 15]\n",
    "\n",
    "# 2nd method just mention each element individually but within np.array([]) format\n",
    "print('2nd method integer array indexing:')\n",
    "print(np.array([array2[0, 0], array2[1, 1], array2[1, 3], array2[3, 2]])) # it also prints [1, 6, 8, 15]\n"
   ]
  },
  {
   "cell_type": "code",
   "execution_count": 73,
   "metadata": {},
   "outputs": [
    {
     "name": "stdout",
     "output_type": "stream",
     "text": [
      "boolean_index:\n",
      "[[False False False  True]\n",
      " [ True  True  True  True]\n",
      " [ True  True  True  True]\n",
      " [ True  True  True  True]]\n",
      "[ 4  5  6 22  8  9 10 11 12 13 14 15 16]\n",
      "[ 4  5  6 22  8  9 10 11 12 13 14 15 16]\n"
     ]
    }
   ],
   "source": [
    "# Boolean array Indxing: this method can find arbitrary elements of an array\n",
    "\n",
    "boolean_index = (array2 > 3) # find the elements in array2 are bigger than 3 and ,it will return boolean values with \n",
    "                             # same shape as array2\n",
    "print('boolean_index:')    \n",
    "print(boolean_index) # print [[False False False  True]\n",
    "                     #        [ True  True  True  True]\n",
    "                     #        [ True  True  True  True]\n",
    "                     #        [ True  True  True  True]]\n",
    "print(array2[boolean_index]) # select the boolean_index that is true values element\n",
    "                             # print [ 4  5  6 22  8  9 10 11 12 13 14 15 16]\n",
    "# It also can do the same thing all of the above\n",
    "print(array2[array2 > 3])"
   ]
  },
  {
   "cell_type": "code",
   "execution_count": 82,
   "metadata": {},
   "outputs": [
    {
     "name": "stdout",
     "output_type": "stream",
     "text": [
      "a + b:\n",
      "[[2 3]\n",
      " [5 6]]\n",
      "[[2 3]\n",
      " [5 6]]\n",
      "a - b:\n",
      "[[ 0 -1]\n",
      " [-1 -2]]\n",
      "[[ 0 -1]\n",
      " [-1 -2]]\n",
      "a * b:\n",
      "[[1 2]\n",
      " [6 8]]\n",
      "[[1 2]\n",
      " [6 8]]\n",
      "a / b:\n",
      "[[ 1.          0.5       ]\n",
      " [ 0.66666667  0.5       ]]\n",
      "[[ 1.          0.5       ]\n",
      " [ 0.66666667  0.5       ]]\n"
     ]
    }
   ],
   "source": [
    "# Array Math\n",
    "a = np.array([[1, 1], [2, 2]])\n",
    "b = np.array([[1, 2], [3, 4]])\n",
    "\n",
    "# Elementwise Add, both do the adding\n",
    "print('a + b:')\n",
    "print(a + b)\n",
    "print(np.add(a, b))\n",
    "# print[[2  3]\n",
    "#       [5  6]]\n",
    "\n",
    "# Elementwise Subtract, both do the subtracting\n",
    "print('a - b:')\n",
    "print(a - b)\n",
    "print(np.subtract(a, b))\n",
    "# print[[ 0 -1]\n",
    "#       [-1 -2]]\n",
    "\n",
    "# Elementwise Multiply, both do the multipling\n",
    "print('a * b:')\n",
    "print(a * b)\n",
    "print(np.multiply(a, b))\n",
    "# print[[1 2]\n",
    "#       [6 8]]\n",
    "\n",
    "# Elementwise Divide, both do the dividing\n",
    "print('a / b:')\n",
    "print(a / b)\n",
    "print(np.divide(a, b))\n",
    "# print[[ 1.          0.5       ]\n",
    "#       [ 0.66666667  0.5       ]]"
   ]
  },
  {
   "cell_type": "code",
   "execution_count": 86,
   "metadata": {},
   "outputs": [
    {
     "name": "stdout",
     "output_type": "stream",
     "text": [
      "Vector Inner product\n",
      "23\n",
      "23\n",
      "Matrix / Vector product\n",
      "[ 5 10]\n",
      "[ 5 10]\n",
      "Matrix / Matrix product\n",
      "[[ 4  6]\n",
      " [ 8 12]]\n",
      "[[ 4  6]\n",
      " [ 8 12]]\n"
     ]
    }
   ],
   "source": [
    "# dot is function to compute inner products of verctors and to multiply matrices.\n",
    "a = np.array([[1, 1], [2, 2]])\n",
    "b = np.array([[1, 2], [3, 4]])\n",
    "c = np.array([2, 3])\n",
    "d = np.array([4, 5])\n",
    "\n",
    "# Vector Inner product, both get 23\n",
    "print('Vector Inner product')\n",
    "print(c.dot(d))\n",
    "print(np.dot(c, d))\n",
    "\n",
    "# Matrix / Vector product, both get [5, 10]\n",
    "print('Matrix / Vector product')\n",
    "print(a.dot(c))\n",
    "print(np.dot(a, c))\n",
    "\n",
    "# Matrix / Matrix product\n",
    "print('Matrix / Matrix product')\n",
    "# both get [[4  6]\n",
    "#            [8 12]]\n",
    "print(a.dot(b))\n",
    "print(np.dot(a, b))"
   ]
  },
  {
   "cell_type": "code",
   "execution_count": 93,
   "metadata": {},
   "outputs": [
    {
     "name": "stdout",
     "output_type": "stream",
     "text": [
      "6\n",
      "[3 3]\n",
      "[2 4]\n"
     ]
    }
   ],
   "source": [
    "# Sum method\n",
    "a = np.array([[1, 1], [2, 2]])\n",
    "print(np.sum(a))  # sum all elements in a, get 6\n",
    "print(np.sum(a, axis=0))  # sum of each column and print [3 3]\n",
    "print(np.sum(a, axis=1))  # sum of each row and print [2 4]"
   ]
  },
  {
   "cell_type": "code",
   "execution_count": 97,
   "metadata": {},
   "outputs": [
    {
     "name": "stdout",
     "output_type": "stream",
     "text": [
      "[[1 1]\n",
      " [2 2]]\n",
      "[[1 2]\n",
      " [1 2]]\n"
     ]
    }
   ],
   "source": [
    "# Transpose Method: in NumPy, we can use T attribute to do the matrix transpose\n",
    "a = np.array([[1, 1], [2, 2]])\n",
    "print(a)    # print [[1 1]\n",
    "            #        [2 2]]\n",
    "print(a.T)  # print [[1 2]\n",
    "            #        [1 2]]"
   ]
  },
  {
   "cell_type": "markdown",
   "metadata": {},
   "source": [
    "# SciPy\n",
    "Scipy, a Python library providing computational routines, such as numerical integration, various equation solvers and optimization"
   ]
  },
  {
   "cell_type": "code",
   "execution_count": 99,
   "metadata": {
    "collapsed": true
   },
   "outputs": [],
   "source": [
    "# First import scipy library\n",
    "from scipy import *"
   ]
  },
  {
   "cell_type": "code",
   "execution_count": 104,
   "metadata": {
    "collapsed": true
   },
   "outputs": [],
   "source": [
    "# Linear Algebra operations: scipy.linalg\n",
    "# Scipy.linalg provides standard linear algebra operations, relying on an underlying efficient implementation (BLAS, LAPACK).\n",
    "# First import linear equation systems\n",
    "from scipy import linalg"
   ]
  },
  {
   "cell_type": "code",
   "execution_count": 105,
   "metadata": {},
   "outputs": [
    {
     "data": {
      "text/plain": [
       "0.0"
      ]
     },
     "execution_count": 105,
     "metadata": {},
     "output_type": "execute_result"
    }
   ],
   "source": [
    "# scipy.linalg.det() will compute the determinant of a square of matrix\n",
    "a = np.array([[1, 1], [2, 2]])\n",
    "linalg.det(a)"
   ]
  },
  {
   "cell_type": "code",
   "execution_count": 107,
   "metadata": {},
   "outputs": [
    {
     "ename": "LinAlgError",
     "evalue": "singular matrix",
     "output_type": "error",
     "traceback": [
      "\u001b[0;31m---------------------------------------------------------------------------\u001b[0m",
      "\u001b[0;31mLinAlgError\u001b[0m                               Traceback (most recent call last)",
      "\u001b[0;32m<ipython-input-107-164a442d73ca>\u001b[0m in \u001b[0;36m<module>\u001b[0;34m()\u001b[0m\n\u001b[1;32m      1\u001b[0m \u001b[0;31m# scipy.linalg.inv() will compute the inverse of a square of matrix\u001b[0m\u001b[0;34m\u001b[0m\u001b[0;34m\u001b[0m\u001b[0m\n\u001b[1;32m      2\u001b[0m \u001b[0ma\u001b[0m \u001b[0;34m=\u001b[0m \u001b[0mnp\u001b[0m\u001b[0;34m.\u001b[0m\u001b[0marray\u001b[0m\u001b[0;34m(\u001b[0m\u001b[0;34m[\u001b[0m\u001b[0;34m[\u001b[0m\u001b[0;36m1\u001b[0m\u001b[0;34m,\u001b[0m \u001b[0;36m1\u001b[0m\u001b[0;34m]\u001b[0m\u001b[0;34m,\u001b[0m \u001b[0;34m[\u001b[0m\u001b[0;36m2\u001b[0m\u001b[0;34m,\u001b[0m \u001b[0;36m2\u001b[0m\u001b[0;34m]\u001b[0m\u001b[0;34m]\u001b[0m\u001b[0;34m)\u001b[0m\u001b[0;34m\u001b[0m\u001b[0m\n\u001b[0;32m----> 3\u001b[0;31m \u001b[0minv_a\u001b[0m \u001b[0;34m=\u001b[0m \u001b[0mlinalg\u001b[0m\u001b[0;34m.\u001b[0m\u001b[0minv\u001b[0m\u001b[0;34m(\u001b[0m\u001b[0ma\u001b[0m\u001b[0;34m)\u001b[0m\u001b[0;34m\u001b[0m\u001b[0m\n\u001b[0m\u001b[1;32m      4\u001b[0m \u001b[0;31m# for singular matrix means it can't find its inverse matrix will casue a error: a singular matrix\u001b[0m\u001b[0;34m\u001b[0m\u001b[0;34m\u001b[0m\u001b[0m\n",
      "\u001b[0;32m/Users/ChienMingHuang/anaconda/lib/python3.6/site-packages/scipy/linalg/basic.py\u001b[0m in \u001b[0;36minv\u001b[0;34m(a, overwrite_a, check_finite)\u001b[0m\n\u001b[1;32m    817\u001b[0m         \u001b[0minv_a\u001b[0m\u001b[0;34m,\u001b[0m \u001b[0minfo\u001b[0m \u001b[0;34m=\u001b[0m \u001b[0mgetri\u001b[0m\u001b[0;34m(\u001b[0m\u001b[0mlu\u001b[0m\u001b[0;34m,\u001b[0m \u001b[0mpiv\u001b[0m\u001b[0;34m,\u001b[0m \u001b[0mlwork\u001b[0m\u001b[0;34m=\u001b[0m\u001b[0mlwork\u001b[0m\u001b[0;34m,\u001b[0m \u001b[0moverwrite_lu\u001b[0m\u001b[0;34m=\u001b[0m\u001b[0;36m1\u001b[0m\u001b[0;34m)\u001b[0m\u001b[0;34m\u001b[0m\u001b[0m\n\u001b[1;32m    818\u001b[0m     \u001b[0;32mif\u001b[0m \u001b[0minfo\u001b[0m \u001b[0;34m>\u001b[0m \u001b[0;36m0\u001b[0m\u001b[0;34m:\u001b[0m\u001b[0;34m\u001b[0m\u001b[0m\n\u001b[0;32m--> 819\u001b[0;31m         \u001b[0;32mraise\u001b[0m \u001b[0mLinAlgError\u001b[0m\u001b[0;34m(\u001b[0m\u001b[0;34m\"singular matrix\"\u001b[0m\u001b[0;34m)\u001b[0m\u001b[0;34m\u001b[0m\u001b[0m\n\u001b[0m\u001b[1;32m    820\u001b[0m     \u001b[0;32mif\u001b[0m \u001b[0minfo\u001b[0m \u001b[0;34m<\u001b[0m \u001b[0;36m0\u001b[0m\u001b[0;34m:\u001b[0m\u001b[0;34m\u001b[0m\u001b[0m\n\u001b[1;32m    821\u001b[0m         raise ValueError('illegal value in %d-th argument of internal '\n",
      "\u001b[0;31mLinAlgError\u001b[0m: singular matrix"
     ]
    }
   ],
   "source": [
    "# scipy.linalg.inv() will compute the inverse of a square of matrix\n",
    "a = np.array([[1, 1], [2, 2]])\n",
    "inv_a = linalg.inv(a)\n",
    "# for singular matrix means it can't find its inverse matrix will casue a error: a singular matrix"
   ]
  },
  {
   "cell_type": "code",
   "execution_count": 110,
   "metadata": {},
   "outputs": [
    {
     "name": "stdout",
     "output_type": "stream",
     "text": [
      "[[-2.   1. ]\n",
      " [ 1.5 -0.5]]\n"
     ]
    }
   ],
   "source": [
    "# Try to find b's inverse\n",
    "b = np.array([[1, 2], [3, 4]])\n",
    "inv_b = linalg.inv(b)\n",
    "print(inv_b)"
   ]
  },
  {
   "cell_type": "code",
   "execution_count": 111,
   "metadata": {
    "collapsed": true
   },
   "outputs": [],
   "source": [
    "# Statistics: scipy.stats\n",
    "# This module contains a large number of statistical distributions, statistical functions and tests.\n",
    "# First import stats module\n",
    "from scipy import stats"
   ]
  },
  {
   "cell_type": "code",
   "execution_count": 136,
   "metadata": {},
   "outputs": [
    {
     "name": "stdout",
     "output_type": "stream",
     "text": [
      "randomnumber:\n",
      "[ -3.56906478e-01  -2.52940888e-01   2.28920042e-01  -8.95832034e-01\n",
      "  -2.94801175e+00  -1.12455772e+00  -6.76616192e-01   6.16951301e-01\n",
      "   4.27053348e-01  -9.81553226e-02  -4.67215771e-01  -3.28507652e+00\n",
      "  -4.63542584e-01  -8.25467863e-01   9.44740230e-01   9.20285284e-01\n",
      "  -1.49448088e-01  -3.41064371e-01   1.39304182e-01  -1.62000547e+00\n",
      "  -3.38977204e-01  -8.99471218e-01   2.49489668e+00  -2.97061999e-01\n",
      "  -7.19905866e-01  -1.91477236e+00  -5.66139843e-02   1.01820229e+00\n",
      "   2.21485046e+00  -1.37017728e+00   3.27371530e-01  -1.05202207e+00\n",
      "  -4.00285182e-01  -4.02814406e-01  -1.06090031e+00  -4.43878033e-01\n",
      "   1.31616591e+00  -3.79166974e-01  -1.07106803e+00   4.38589362e-01\n",
      "   3.90170590e-01   3.46970889e-01  -1.32975548e+00  -3.96078103e-01\n",
      "  -1.94128453e+00   4.23698047e-01   4.02381651e-01  -1.63702568e+00\n",
      "  -3.63307561e-01  -1.98178548e+00  -1.40242310e-01  -2.87368675e-01\n",
      "  -8.15640301e-01  -1.74027927e+00  -1.01132990e+00   3.73150028e-01\n",
      "   1.68316740e-01  -1.06595142e+00   1.93400063e+00  -9.30322819e-01\n",
      "   1.69179014e+00  -1.18016088e-01   2.14167359e+00   5.98823795e-01\n",
      "   6.07222961e-02  -1.59317625e+00   1.72968328e+00   1.38786963e+00\n",
      "   2.83639599e-03  -5.18975742e-01  -3.51601475e-01  -2.29963013e-01\n",
      "   1.10289860e+00   2.65949379e-01   2.47991589e-01   1.56660326e+00\n",
      "   1.02264338e+00   4.54832681e-01  -2.54530713e+00  -7.08365381e-01\n",
      "  -1.78271943e-01   4.62646753e-01   2.67133708e-01  -9.05483805e-01\n",
      "   1.18509664e+00  -5.87704486e-01   1.29280584e+00  -1.49830523e+00\n",
      "   4.74505434e-01  -3.88451636e-01   5.37477833e-01  -1.43649113e+00\n",
      "   8.46479605e-01   1.72553793e+00  -1.14420888e+00   5.94418943e-01\n",
      "  -6.75655620e-01  -3.39997620e-02   1.08136178e+00   2.92881648e-01\n",
      "   1.58736304e+00   4.10069684e-01  -9.93389648e-01   5.54810330e-01\n",
      "   8.05282772e-01  -7.01231991e-01   3.80093302e-01   3.28339890e-01\n",
      "  -9.55856992e-02   1.06705455e+00   9.74096640e-01  -9.66800460e-01\n",
      "  -7.95775305e-01   3.12251050e-01   1.19878818e+00  -9.31848504e-01\n",
      "   5.92097137e-01  -1.53890501e+00  -1.58571583e+00  -1.23204681e+00\n",
      "   2.02405841e+00   7.27202618e-01   1.03687330e+00  -3.13667813e+00\n",
      "   7.01855529e-01  -8.48036355e-01   8.92276804e-01   3.17677779e-01\n",
      "  -1.64458104e+00   6.11696908e-01   1.87482296e-01   2.17192335e-01\n",
      "   7.14918641e-01  -4.22831858e-01  -7.56499712e-01  -2.86024076e-02\n",
      "   2.17070621e-01   4.10594325e-02  -1.20156780e+00  -5.63190942e-01\n",
      "  -4.51953577e-01   2.37677208e-01  -5.81142900e-01  -1.40977618e+00\n",
      "  -1.17252027e+00  -8.63646302e-01  -4.28637437e-01  -1.64303954e+00\n",
      "  -1.08307766e+00   4.45179215e-01   9.24550739e-01   4.39057876e-01\n",
      "  -1.21570836e+00  -3.52723366e-01  -1.31810218e-01  -6.33596574e-01\n",
      "   2.84910920e-01   4.18380244e-01  -2.30945320e+00   1.46894750e+00\n",
      "   1.57836847e-02   6.81951815e-01   4.30168804e-01  -6.00964600e-01\n",
      "   2.77094783e+00  -9.85195190e-01   1.57864020e+00  -5.25813405e-01\n",
      "  -5.47927959e-02   4.81551803e-01   6.38325336e-01  -4.62768282e-01\n",
      "  -6.03300227e-01  -5.53551968e-01  -9.70952659e-01  -8.87751377e-01\n",
      "  -4.94101879e-01  -7.02833792e-01  -6.41389179e-01  -8.10294014e-01\n",
      "  -9.40298284e-01  -7.47198444e-01   1.38245267e+00  -1.45446947e+00\n",
      "   1.03359654e+00  -6.69426645e-01   1.17493212e-01  -1.60234423e+00\n",
      "  -1.33973752e+00   1.12906178e+00  -5.84340108e-01   5.17173767e-03\n",
      "  -1.09453098e+00   9.66492769e-02   1.62064854e+00  -6.00106971e-01\n",
      "  -1.06170837e+00  -1.38547000e-01   1.39730631e-01  -3.38737481e-01\n",
      "  -1.06413444e+00  -1.20584234e+00   2.54742926e-01   3.40844098e-01\n",
      "   3.85131640e-01  -1.29601428e+00   8.66465498e-01   4.85592461e-01\n",
      "   2.91866533e-01  -9.66790936e-01   4.23227440e-01  -1.56738604e+00\n",
      "   6.26544248e-01  -1.53737123e+00  -1.66346205e+00  -3.54375932e-01\n",
      "  -8.08097894e-01   4.48491126e-02   1.58865226e-01   9.63132104e-01\n",
      "  -2.40041287e-01   1.01620484e+00  -6.40462904e-01  -1.38963389e+00\n",
      "   1.17740383e+00  -1.29811619e+00  -4.79455059e-01   1.09727233e+00\n",
      "  -6.70571548e-01   7.95049194e-01   2.29271249e+00   8.50928840e-02\n",
      "   5.45687094e-01  -1.22399556e+00  -9.38644796e-01  -2.50899094e-01\n",
      "   3.10468645e-01   3.22371066e-01   7.65639098e-01   6.36963685e-01\n",
      "   2.16793142e-02  -1.46540927e+00   3.20121798e-01   1.65003726e-01\n",
      "   1.02222596e+00   4.64162385e-01  -2.14801820e-01  -3.69255676e-02\n",
      "   1.58663037e+00   5.14265250e-01   6.04082680e-01   6.55955455e-02\n",
      "   7.28810601e-01   1.25294093e-01   9.64143849e-01  -1.19931337e+00\n",
      "   1.18823807e+00   6.09452570e-01   1.12198363e+00   1.31253670e+00\n",
      "  -3.76662761e-01  -2.13633189e-01  -1.82981088e-01   1.26794850e+00\n",
      "   6.87930554e-01  -1.37778375e+00   2.21149263e-01   1.07337575e-01\n",
      "   2.88850838e-03  -1.81378418e-01   3.36342692e-01  -6.75391993e-01\n",
      "  -4.75458591e-01  -2.21204316e-01  -4.86461300e-01  -9.55809709e-01\n",
      "  -2.11071548e-01  -9.20171362e-01   8.30385556e-01   2.76819804e-01\n",
      "  -8.42133032e-01   2.45742255e+00  -1.99666684e-01   6.02759467e-01\n",
      "   1.95000998e-02  -1.60105272e+00  -1.00754243e+00   3.71904498e-01\n",
      "  -1.70782836e+00   8.21016219e-01  -2.83476558e-01  -1.61539277e+00\n",
      "  -1.02769296e+00  -2.39254732e-01   8.81422138e-01   1.72637402e+00\n",
      "   1.11506891e+00   3.16416421e+00  -2.89657801e-01   8.45310711e-01\n",
      "  -1.42168840e+00  -9.93838007e-01  -4.87956803e-01   1.35182472e-01\n",
      "  -1.32640196e-01   7.38346056e-01   8.19300269e-02   6.18116590e-01\n",
      "   2.70457006e-01  -8.20092669e-01   7.99077824e-01  -6.04780613e-01\n",
      "   1.74914036e-02   7.94298957e-01  -4.12594859e-01   6.71771671e-01\n",
      "   2.17480665e-01   6.68798492e-01  -2.90160393e-01  -3.45204592e-01\n",
      "   3.86922313e-01   1.33245185e-01   1.16811469e+00  -8.82798284e-02\n",
      "  -6.48910148e-01  -2.44137590e-02   7.11638595e-01   2.85448013e-01\n",
      "   5.39508585e-01   1.62130724e+00  -9.02980665e-01   8.21270788e-01\n",
      "  -4.72837363e-01   2.99846870e-01  -8.46648842e-03  -1.77162105e-01\n",
      "  -8.84247952e-01   1.44068901e+00   2.52809730e-01   1.92802799e+00\n",
      "  -2.84898195e-01  -1.22618021e+00   2.37625526e+00  -5.53769004e-01\n",
      "  -1.09485436e+00  -5.45894128e-01   3.66981345e-01  -2.36702289e-01\n",
      "  -7.49980270e-01  -7.36981560e-01  -1.50356536e+00   1.10266178e+00\n",
      "   3.42249616e-02  -1.69526665e-02   1.08396521e+00   3.92234776e-01\n",
      "  -2.00107871e+00  -1.98325340e+00  -2.42847661e+00   9.07528791e-01\n",
      "  -1.24892698e+00   1.19086385e+00   1.37006973e+00   1.01929684e+00\n",
      "  -6.33905261e-01  -3.83440561e-01  -4.02471339e-02  -7.82797978e-01\n",
      "   2.26509937e+00   5.31173819e-01  -7.54978738e-01   5.70776116e-02\n",
      "   1.19216587e+00   1.17676816e+00   4.14142844e-01   1.92228093e-01\n",
      "  -8.44352504e-01  -2.02063455e-01   2.45793511e-01  -4.58819875e-01\n",
      "   6.85359828e-02   1.17368306e+00  -1.04234341e+00  -1.76344176e-02\n",
      "  -7.53259031e-02   1.81074799e+00  -1.01700794e+00  -1.15509181e+00\n",
      "   1.34793159e+00  -4.50884525e-01  -1.12868592e+00   7.34906171e-01\n",
      "  -8.26294670e-01  -1.71087750e+00   1.08991672e+00   1.28833814e-01\n",
      "   1.58685153e+00  -3.31968114e-01  -6.05561509e-01  -2.97827290e-01\n",
      "  -5.33329675e-01  -1.09877018e+00   1.38372884e+00   3.12300821e-01\n",
      "  -5.29285949e-01  -1.55100528e+00  -8.40099243e-01   3.01818013e-01\n",
      "   2.35767192e-01  -9.68341773e-01  -1.52624330e+00  -2.19771118e+00\n",
      "   1.69747673e+00  -9.51120053e-01   1.20442785e-01   1.30303612e-01\n",
      "   4.18151795e-01  -1.89264199e+00   1.17435547e+00  -1.18328933e+00\n",
      "   9.95816221e-01  -3.92070656e-01   1.23007330e+00   6.74796383e-01\n",
      "   6.88123627e-01  -2.62988768e+00   3.13907084e-01   7.86068132e-01\n",
      "  -9.28291824e-01   4.97338463e-01  -1.07012789e+00   4.62439481e-01\n",
      "   5.41877886e-01  -1.02528063e-01  -7.18619803e-01  -8.05846672e-03\n",
      "  -6.88841906e-01  -6.97519860e-01  -2.07789086e+00  -2.92387744e-01\n",
      "   3.51956867e-01  -9.00938799e-01  -5.30973764e-01  -1.87544917e+00\n",
      "   3.11295746e-01  -1.06421501e+00   1.33265801e+00   1.84855090e+00\n",
      "  -5.63848620e-01   7.34812836e-01   3.31574907e-01  -9.58311267e-01\n",
      "   1.27381808e+00  -2.81091065e+00   1.43133273e-01   1.59727077e+00\n",
      "  -6.84473128e-01   7.08320919e-01  -8.20519151e-01  -1.40401282e+00\n",
      "  -9.29221627e-01   1.53226216e+00  -5.04279012e-01   2.92590891e+00\n",
      "   2.34186439e-01   9.33163245e-02   6.81259004e-02   5.53622218e-01\n",
      "  -7.59432868e-01  -1.38884928e-01   4.63617978e-01   3.26526318e-01\n",
      "  -3.65219213e-02   7.07023934e-01   2.90416866e-01   2.22354274e+00\n",
      "   6.58966888e-02  -5.04199170e-01   1.89305807e+00  -1.78727436e-01\n",
      "   5.56962497e-01  -5.51206687e-01   1.89124665e-01   2.00393191e-01\n",
      "  -3.45725789e-01   1.44672676e+00   1.52439600e+00  -1.55438570e+00\n",
      "  -1.32301375e+00  -8.66754643e-01  -9.66499632e-01  -1.68875550e+00\n",
      "  -2.82943206e-01  -6.60078115e-01  -7.71543086e-01  -9.82961691e-01\n",
      "  -2.17328168e-01  -1.83887341e+00  -2.01879606e+00  -1.17879549e+00\n",
      "   2.13126399e+00  -5.34528179e-01   4.95312797e-01  -4.24823723e-01\n",
      "   1.19775083e+00  -4.78299967e-02   1.12703694e+00  -8.66924837e-01\n",
      "   1.02607544e+00  -5.41524296e-01  -4.99164312e-01   2.82136352e-01\n",
      "  -2.32809495e+00  -2.09339759e-01  -5.39049332e-01   1.94543577e+00\n",
      "   2.36196349e-01  -6.45875248e-01   8.06846480e-01  -1.13880587e+00\n",
      "   1.88889695e-01  -1.57831431e-02   1.15694284e+00  -2.68004164e-01\n",
      "   9.12499786e-01  -1.51124280e+00   1.68710284e-01   7.45083016e-01\n",
      "  -1.21341061e+00  -9.67495814e-01   1.32647508e+00  -1.61742573e+00\n",
      "   2.16507666e+00  -1.63614314e-02   2.43109430e-01  -2.61044837e-01\n",
      "   5.30812572e-01   1.42532100e+00   2.12727772e+00  -2.35745601e+00\n",
      "   8.92538106e-01  -1.27817724e+00  -6.29361054e-01   9.13961623e-01\n",
      "  -1.21331449e+00  -3.56115370e-01  -1.89125366e-01   1.53439094e-01\n",
      "   1.60116924e-01   4.69021936e-01  -4.69859197e-01   1.02219464e+00\n",
      "   3.04954821e-01   1.57075337e+00  -2.39292406e-01  -2.32088605e+00\n",
      "  -8.81899259e-01   1.93610110e-01   5.05123858e-01  -1.80730057e+00\n",
      "   3.91693622e-01   1.00500622e+00   9.15302703e-02  -9.46578661e-01\n",
      "   5.53625749e-01   1.01228099e+00   3.35706732e-01   5.90375605e-01\n",
      "  -7.95939127e-01  -3.63171380e-01  -1.56004071e-01   5.96540166e-01\n",
      "  -3.00106352e-01  -6.48540452e-01   8.52424591e-01  -3.70598874e-01\n",
      "  -2.07475691e-01  -2.90668747e-02  -1.69026397e+00   1.03976561e+00\n",
      "  -1.08912341e+00  -4.69686736e-03   2.86332907e+00   5.97773860e-01\n",
      "  -3.16060737e-01   1.71053376e-01  -1.66832112e+00   6.40604203e-01\n",
      "   5.75493596e-01   4.54125203e-01  -2.23703479e+00   2.53753834e-01\n",
      "  -8.75373933e-01  -5.08549588e-01   6.00542950e-01  -1.25665519e+00\n",
      "  -4.03607811e-01  -1.32256321e-01  -1.59008588e-01   1.07700759e+00\n",
      "  -4.22204075e-01  -3.97795257e-01   1.14342767e+00  -7.76805586e-01\n",
      "  -1.53476418e+00  -5.87857336e-01  -5.88169684e-02   1.99622980e-01\n",
      "  -9.09050161e-01  -7.48411188e-02  -2.28392137e+00   4.22021710e-01\n",
      "   6.55613134e-01   8.75433913e-01   1.99606521e+00   8.12708229e-01\n",
      "  -1.27053278e-01  -4.33876293e-01  -4.55021183e-01  -1.98233693e+00\n",
      "  -1.60183063e+00  -3.03166156e-01  -1.18660942e+00   8.22278235e-01\n",
      "  -1.00921057e+00  -6.14366472e-01   1.14543842e+00  -1.55995587e-01\n",
      "  -9.11167041e-01  -8.56816416e-01  -2.33560047e-01  -2.06301652e+00\n",
      "  -1.31453657e+00   6.23513158e-01   4.09823510e-01   1.07419978e-01\n",
      "   1.33985580e+00  -9.02526859e-01  -1.32350770e+00   1.83309294e-01\n",
      "  -1.28589342e-01   4.28910556e-02   6.50371569e-01   6.80348777e-01\n",
      "   9.86567368e-01   6.05351248e-01   4.98493677e-01  -1.87877280e+00\n",
      "   2.77771073e+00  -9.90502140e-01  -8.42927060e-01  -6.40904889e-01\n",
      "  -4.71275245e-02  -2.47232456e-01   1.05097561e+00   1.31785531e+00\n",
      "   3.14789151e-01   1.19815089e+00   1.08361758e+00   4.62767057e-01\n",
      "   5.34599020e-01  -1.65850902e+00  -7.62898797e-01   9.06587096e-01\n",
      "   1.08555744e+00  -3.47337496e-01   2.87906492e-01   2.02657317e-03\n",
      "   5.10847044e-01   4.19532760e-01   7.25675456e-01  -1.81677285e+00\n",
      "  -3.89809654e-01  -8.23599291e-01  -2.24645812e+00   1.06497824e-01\n",
      "   5.34289285e-01   4.36601381e-02   2.80261074e-01  -2.37998873e-01\n",
      "   4.51757904e-01  -8.60145627e-01   2.44475785e-02  -3.14230308e-01\n",
      "   6.70012757e-01   6.33271058e-01   5.29860631e-01  -2.78422991e-01\n",
      "   5.04734145e-01   4.41473355e-02  -6.51464191e-01  -7.90583037e-01\n",
      "  -9.59804800e-01  -8.26141620e-01   4.99729459e-01  -3.20190725e-01\n",
      "  -8.36401002e-01   8.06309705e-01  -9.59738263e-01   8.20149688e-01\n",
      "   5.83559496e-01  -2.10162064e+00  -2.16300113e+00   5.70412691e-01\n",
      "  -4.30829865e-01   9.04411839e-02   4.07330614e-01   1.69440031e+00\n",
      "   7.02838019e-01   2.02332826e-01  -2.60962900e-02   5.18819712e-01\n",
      "  -4.23726045e-01  -1.19521127e+00  -2.36131977e+00   9.41394356e-01\n",
      "   4.62790330e-01  -4.42732791e-01   5.33312520e-01  -5.53316224e-01\n",
      "  -4.82010334e-01  -6.53108353e-01  -1.84709365e+00   1.48922724e-01\n",
      "   3.00493586e-01   2.14952273e-01   5.91744945e-01   9.38040321e-01\n",
      "   6.48007978e-01   2.16773457e+00  -1.34349843e+00   1.62846437e-01\n",
      "   1.83900253e+00   7.02598789e-01   1.51032125e-01   1.92458266e+00\n",
      "  -5.84407954e-01   5.18117753e-01  -1.14353302e+00  -7.41516827e-01\n",
      "   2.32130584e+00  -6.92921686e-01  -6.52078099e-01  -1.51850898e+00\n",
      "   7.27286737e-01  -1.58446119e-01   1.26011302e-01   3.32938785e-01\n",
      "   5.28786035e-01  -7.31383491e-01  -7.65022151e-01   8.38117958e-01\n",
      "  -9.45959422e-01   1.09378639e+00   8.98712866e-01  -5.94595413e-01\n",
      "  -5.10389160e-01  -2.01721488e+00   7.50304185e-01   4.37923419e-01\n",
      "   9.72455594e-01  -7.43894219e-01  -2.61826028e+00  -1.81497743e+00\n",
      "  -8.27304750e-01  -1.49985292e+00  -9.52346796e-02  -1.12762419e+00\n",
      "  -2.69803341e-01  -1.10476150e+00   8.04641399e-01  -1.43109528e+00\n",
      "  -7.91808178e-01   8.58324344e-01  -1.26236588e+00   1.85052138e+00\n",
      "  -3.42884190e-01  -1.00332098e+00   1.02376164e+00  -1.34772043e+00\n",
      "  -3.20319260e-01   6.45588137e-01  -8.23424179e-01   5.07709642e-01\n",
      "  -3.20864930e-01   3.99526968e-02   3.46535340e-01  -2.47620504e+00\n",
      "  -2.94953144e-01  -2.01671920e+00  -9.17801144e-01   1.69625064e-01\n",
      "  -1.54148103e+00   1.63555837e+00  -7.73233560e-01   1.68403101e+00\n",
      "   4.08872153e-01   2.55957027e-01   4.28943085e-01  -8.31074155e-01\n",
      "  -1.06992429e+00  -1.19643343e+00   1.09871176e-01   4.90981806e-01\n",
      "   6.85054381e-01   1.06882926e+00  -9.71774954e-01  -5.02979158e-01\n",
      "  -7.01912606e-01  -8.79472594e-01   1.86106043e+00   6.84515651e-02\n",
      "  -5.11528959e-01  -3.40133252e-01   1.61084224e-01  -1.10254993e+00\n",
      "   5.47538561e-01   1.34408225e-01  -6.83995823e-01  -8.13528290e-01\n",
      "   1.06124189e+00  -1.57914873e+00   1.16645926e-01  -3.88663474e-01\n",
      "  -9.83885426e-01  -6.07651922e-01  -1.59778414e+00   8.60676630e-01\n",
      "  -1.02026442e+00  -1.28674993e+00  -1.25489056e+00  -6.29905582e-01\n",
      "   7.38694182e-02  -2.39672104e-01   1.17420449e+00   1.88581824e-01\n",
      "  -2.55675070e-01   2.86730938e-02   1.17181856e-01   1.50330064e+00\n",
      "   4.61270379e-01  -1.60923456e-01   1.15698227e+00   2.21722299e-01\n",
      "   2.86737606e+00   5.32907487e-01  -7.98387922e-01  -2.33657269e+00\n",
      "  -3.56777538e-02  -6.44203084e-01   5.30882384e-01  -1.43640325e+00\n",
      "  -5.94351970e-01  -1.00513440e+00  -1.47986054e-01   9.27423195e-01\n",
      "   1.08850092e+00  -8.53277970e-01   2.52545137e-01  -7.60412659e-01\n",
      "  -1.29129785e+00  -3.01128263e-01   1.88110356e-01  -6.26497872e-02\n",
      "  -2.47220950e+00  -2.69190057e-01   6.05964270e-01   1.57121464e+00\n",
      "  -6.03271250e-01   5.42629493e-01   3.93993048e-01  -1.60537889e+00\n",
      "   2.15316786e-01  -4.21236264e-01   3.27037113e-01   1.36515511e+00\n",
      "  -5.74230958e-01  -8.03280967e-01  -7.72075783e-01   1.51837136e+00\n",
      "  -5.83449644e-01  -1.22600987e+00   7.02675599e-01   3.63818257e-01\n",
      "  -1.17755968e+00   4.69155456e-01  -1.50004459e-01  -1.43375660e-01\n",
      "   3.00663446e-01   7.37944804e-01   5.05088870e-01  -2.12664391e-01\n",
      "   1.19428433e+00  -9.43480121e-01   3.89722631e-01  -8.24350424e-01\n",
      "  -2.97391249e-01  -1.04289255e-01  -8.36117171e-01   1.80429432e+00\n",
      "  -3.57182073e-01   1.16881646e+00  -1.37696798e+00   3.26439721e-01\n",
      "   5.81932836e-01  -7.50847390e-01  -1.14353684e-01   1.95807351e+00\n",
      "  -1.64255477e-01   1.05717848e+00   1.27720145e+00   4.37910891e-02\n",
      "   1.02625846e+00  -6.22226100e-01   6.87787758e-02   1.34980389e+00\n",
      "  -8.28561063e-01  -2.34494958e-01  -8.94990775e-01   6.36528683e-02\n",
      "  -6.02835841e-01  -3.61621070e-01  -1.01467469e-02  -4.91589132e-02\n",
      "   1.94523977e-01  -3.22198537e-01   6.68770782e-01  -6.13264545e-01\n",
      "   4.63164388e-01  -9.08568457e-01  -2.71567963e+00  -2.01197421e+00\n",
      "  -1.05101433e+00  -5.60811521e-01  -1.31312116e+00   1.59098195e-01\n",
      "   1.94576836e+00  -1.94286511e+00   6.58042757e-03   8.89685896e-01\n",
      "  -1.80121884e+00  -1.50944474e-01  -2.81530094e-01  -2.53634572e-01\n",
      "  -4.80472724e-02  -1.45941794e-01  -4.96638211e-02   2.07334669e-01\n",
      "  -1.62718706e-01   2.01821600e+00   2.53964573e-01  -4.82474342e-01\n",
      "  -8.03358601e-01   1.58348194e-01   1.55582703e-02   1.35933413e+00\n",
      "  -1.46669339e+00  -6.04988436e-01  -6.44024404e-01  -9.26434240e-01\n",
      "  -7.14821668e-02  -2.07961439e+00   3.72188530e-01  -7.89886151e-01\n",
      "   2.65644641e-01   9.45625240e-01  -1.98085936e-01   3.58982081e-01\n",
      "  -3.44771034e-01   1.93003510e+00  -7.94879899e-02  -8.99995486e-02\n",
      "  -1.54459175e-01  -6.64929048e-01  -2.79336619e+00   1.49256722e+00\n",
      "  -1.15970680e+00  -7.09615586e-01  -5.11192812e-01   9.54592560e-02\n",
      "  -5.68963799e-01  -8.64150030e-01   2.46369203e-01   9.92853885e-01\n",
      "   5.18012699e-01  -1.17484933e+00   5.47858565e-01  -1.33466627e-01\n",
      "   6.28191683e-01  -3.35006259e-01   2.97597690e-01   7.03555614e-01\n",
      "  -9.05817111e-01  -1.66697719e+00  -1.50380724e-01   1.61256015e-01\n",
      "  -9.23750395e-01  -9.30340950e-01  -8.99218420e-02  -2.40484002e-01]\n",
      "bin:\n",
      "[-5 -4 -3 -2 -1  0  1  2  3  4  5]\n"
     ]
    }
   ],
   "source": [
    "# Histogram for a normal distribution\n",
    "# First build a random normal distribution with 500 numbers\n",
    "randomnumber = np.random.normal(size = 1000)\n",
    "print('randomnumber:')\n",
    "print(randomnumber)\n",
    "# Then create a bins for horizontal axis\n",
    "bins = np.arange(-5, 6)\n",
    "print('bin:')\n",
    "print(bins)\n",
    "# build out histogram \n",
    "hist = np.histogram(randomnumber, bins= bins, normed= True)[0]\n",
    "bins = 0.5*(bins[1:] + bins[:-1])\n"
   ]
  },
  {
   "cell_type": "code",
   "execution_count": 138,
   "metadata": {},
   "outputs": [
    {
     "data": {
      "image/png": "[encoded data removed]",
      "text/plain": [
       "<matplotlib.figure.Figure at 0x114128cf8>"
      ]
     },
     "metadata": {},
     "output_type": "display_data"
    }
   ],
   "source": [
    "# plot histogram with matplotlib.pyplot function\n",
    "import matplotlib.pyplot as plt\n",
    "e = plt.plot(bins, hist)\n",
    "plt.show(e)"
   ]
  },
  {
   "cell_type": "code",
   "execution_count": 140,
   "metadata": {},
   "outputs": [
    {
     "name": "stdout",
     "output_type": "stream",
     "text": [
      "median of randomnumber: -0.0838839091653\n",
      "1st quartile: -0.784570021261\n",
      "2nd quartile: -0.0838839091653\n",
      "3rd quartile: 0.540100909908\n",
      "95%: 1.57903970899\n"
     ]
    }
   ],
   "source": [
    "# Stats also can help find the percentiles\n",
    "# median for the randomnumber\n",
    "print('median of randomnumber:', np.median(randomnumber))\n",
    "\n",
    "# use the scoreatpercentile to find specifc % of randomnumber\n",
    "print('1st quartile:', stats.scoreatpercentile(randomnumber, 25))\n",
    "print('2nd quartile:', stats.scoreatpercentile(randomnumber, 50))\n",
    "print('3rd quartile:', stats.scoreatpercentile(randomnumber, 75))\n",
    "print('95%:', stats.scoreatpercentile(randomnumber, 95))"
   ]
  },
  {
   "cell_type": "code",
   "execution_count": 144,
   "metadata": {},
   "outputs": [],
   "source": [
    "# Interpolation: scipy.interpolate\n",
    "# This is useful for fitting a function from experimental data and thus evaluating points where no measure exists.\n",
    "# First import scipy.interpolate and using interpld to create a function based on fixed data points for 1-D interpolation\n",
    "from scipy.interpolate import interp1d"
   ]
  },
  {
   "cell_type": "code",
   "execution_count": 150,
   "metadata": {},
   "outputs": [
    {
     "data": {
      "image/png": "[encoded data removed]",
      "text/plain": [
       "<matplotlib.figure.Figure at 0x113e5a160>"
      ]
     },
     "metadata": {},
     "output_type": "display_data"
    }
   ],
   "source": [
    "# Define a function return cos(x)\n",
    "x = np.linspace(0, 10, num=11, endpoint=True) # give the line space from range 0~10 and numbers for 11\n",
    "y = np.sin(-x * 1.55) # let y a sin function of x\n",
    "f = interp1d(x, y) # build the formula with x, y\n",
    "xnew = np.linspace(0, 10, num=30, endpoint=True) # give another line space from range 0~10 and numbers for 11\n",
    "plt.plot(x, y, 'o', xnew, f(xnew),'-') # plot the x,y curve\n",
    "plt.show()"
   ]
  },
  {
   "cell_type": "code",
   "execution_count": 152,
   "metadata": {
    "collapsed": true
   },
   "outputs": [],
   "source": [
    "# Optimization: optimize\n",
    "# This function helps to find the optimization\n",
    "# First import optimize\n",
    "from scipy import optimize"
   ]
  },
  {
   "cell_type": "code",
   "execution_count": 161,
   "metadata": {},
   "outputs": [
    {
     "data": {
      "image/png": "[encoded data removed]",
      "text/plain": [
       "<matplotlib.figure.Figure at 0x1148849e8>"
      ]
     },
     "metadata": {},
     "output_type": "display_data"
    }
   ],
   "source": [
    "# Find a minima\n",
    "# Defin a f(x) function= 3x^2 + 2x - 3\n",
    "def f(x):\n",
    "    return 3*x**2 + 2*x - 3\n",
    "fig, ax  = plt.subplots() # use subplots function\n",
    "x = linspace(-4, 3, 100) # give a linespace range from -4~3, and number is 100\n",
    "ax.plot(x, f(x))\n",
    "plt.show()"
   ]
  },
  {
   "cell_type": "code",
   "execution_count": 163,
   "metadata": {},
   "outputs": [
    {
     "name": "stdout",
     "output_type": "stream",
     "text": [
      "Optimization terminated successfully.\n",
      "         Current function value: -3.333333\n",
      "         Iterations: 2\n",
      "         Function evaluations: 9\n",
      "         Gradient evaluations: 3\n"
     ]
    }
   ],
   "source": [
    "# find the xmin with fmin_bfgs function to find the minima\n",
    "xmin = optimize.fmin_bfgs(f, -1) # starts points from -1 to find the minima"
   ]
  },
  {
   "cell_type": "markdown",
   "metadata": {},
   "source": [
    "# Reference\n",
    "1. http://cs231n.github.io/python-numpy-tutorial/#numpy\n",
    "2. https://docs.scipy.org/doc/numpy-dev/user/quickstart.html\n",
    "3. https://www.tutorialspoint.com/numpy/numpy_data_types.htm\n",
    "4. https://github.com/jrjohansson/scientific-python-lectures/blob/master/Lecture-2-Numpy.ipynb\n",
    "5. https://github.com/gertingold/euroscipy-numpy-tutorial\n",
    "6. https://docs.scipy.org/doc/scipy/reference/\n",
    "7. https://www.scipy.org/getting-started.html\n",
    "8. https://www.tau.ac.il/~kineret/amit/scipy_tutorial/\n",
    "9. https://github.com/jrjohansson/scientific-python-lectures/blob/master/Lecture-3-Scipy.ipynb"
   ]
  }
 ],
 "metadata": {
  "kernelspec": {
   "display_name": "Python 3",
   "language": "python",
   "name": "python3"
  },
  "language_info": {
   "codemirror_mode": {
    "name": "ipython",
    "version": 3
   },
   "file_extension": ".py",
   "mimetype": "text/x-python",
   "name": "python",
   "nbconvert_exporter": "python",
   "pygments_lexer": "ipython3",
   "version": "3.6.1"
  }
 },
 "nbformat": 4,
 "nbformat_minor": 2
}
