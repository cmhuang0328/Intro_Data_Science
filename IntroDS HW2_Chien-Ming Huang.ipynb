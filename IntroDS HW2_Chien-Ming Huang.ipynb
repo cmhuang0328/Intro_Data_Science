{
 "cells": [
  {
   "cell_type": "markdown",
   "metadata": {},
   "source": [
    "## Introduction To Data Science HW2 Python Tutorial  ( Dicts, Functions, Classes)"
   ]
  },
  {
   "cell_type": "markdown",
   "metadata": {},
   "source": [
    "# Dictionaries\n",
    "Dictionaries are more used like a database where the data is stored as a Key:Value Pair. Strings, numbers and tuples can be used as keys while any data type can be a value. To define a dictionary, equate a variable to { } or dict()"
   ]
  },
  {
   "cell_type": "code",
   "execution_count": 13,
   "metadata": {},
   "outputs": [
    {
     "name": "stdout",
     "output_type": "stream",
     "text": [
      "dict['Class']:  Math\n",
      "dict['Teaching Professor']:  Jimmy\n"
     ]
    }
   ],
   "source": [
    "# Create a simple dictionary example, and put some key: value stuffs inside {}, and find specific values of keys\n",
    "dict = {'Class': 'Math', 'Class Size': 40, 'Teaching Professor': 'Jimmy'}\n",
    "print (\"dict['Class']: \", dict['Class'])\n",
    "print (\"dict['Teaching Professor']: \", dict['Teaching Professor'])"
   ]
  },
  {
   "cell_type": "code",
   "execution_count": 14,
   "metadata": {},
   "outputs": [
    {
     "name": "stdout",
     "output_type": "stream",
     "text": [
      "{'Class': 'Math', 'Class Size': 40, 'Teaching Professor': 'Jimmy', 'Location': 'Newark', 'School': 'Rutgers Business School'}\n",
      "{'Class': 'Math', 'Class Size': 40, 'Teaching Professor': 'Jimmy', 'School': 'Rutgers Business School'}\n"
     ]
    }
   ],
   "source": [
    "# Updates and Deletes the Dicts\n",
    "dict['Location'] = \"Newark\"; # update existing entry in the dict\n",
    "dict['School'] = \"Rutgers Business School\" # Add new entry in the dict\n",
    "print (dict)\n",
    "del dict['Location']\n",
    "print (dict) "
   ]
  },
  {
   "cell_type": "code",
   "execution_count": 15,
   "metadata": {},
   "outputs": [
    {
     "data": {
      "text/plain": [
       "4"
      ]
     },
     "execution_count": 15,
     "metadata": {},
     "output_type": "execute_result"
    }
   ],
   "source": [
    "# len(dict) function shows the total length of dict\n",
    "len(dict)"
   ]
  },
  {
   "cell_type": "code",
   "execution_count": 17,
   "metadata": {},
   "outputs": [
    {
     "data": {
      "text/plain": [
       "\"{'Class': 'Math', 'Class Size': 40, 'Teaching Professor': 'Jimmy', 'School': 'Rutgers Business School'}\""
      ]
     },
     "execution_count": 17,
     "metadata": {},
     "output_type": "execute_result"
    }
   ],
   "source": [
    "# str(dict) function gives the dict a printable string\n",
    "str(dict)"
   ]
  },
  {
   "cell_type": "code",
   "execution_count": 18,
   "metadata": {},
   "outputs": [
    {
     "data": {
      "text/plain": [
       "dict_keys(['Class', 'Class Size', 'Teaching Professor', 'School'])"
      ]
     },
     "execution_count": 18,
     "metadata": {},
     "output_type": "execute_result"
    }
   ],
   "source": [
    "# keys function gives a list with all the assigned keys in the dictionary\n",
    "dict.keys()"
   ]
  },
  {
   "cell_type": "code",
   "execution_count": 5,
   "metadata": {},
   "outputs": [
    {
     "data": {
      "text/plain": [
       "dict_values(['Math', 40, 'Jimmy', 'Rutgers Business School'])"
      ]
     },
     "execution_count": 5,
     "metadata": {},
     "output_type": "execute_result"
    }
   ],
   "source": [
    "# values function gives a list with all the assigned values in the dictionary\n",
    "dict.values()"
   ]
  },
  {
   "cell_type": "code",
   "execution_count": 6,
   "metadata": {},
   "outputs": [
    {
     "data": {
      "text/plain": [
       "dict_items([('Class', 'Math'), ('Class Size', 40), ('Teaching Professor', 'Jimmy'), ('School', 'Rutgers Business School')])"
      ]
     },
     "execution_count": 6,
     "metadata": {},
     "output_type": "execute_result"
    }
   ],
   "source": [
    "# items function gives a list but each element in the dictionary is inside a tuple\n",
    "dict.items()"
   ]
  },
  {
   "cell_type": "code",
   "execution_count": 20,
   "metadata": {},
   "outputs": [
    {
     "name": "stdout",
     "output_type": "stream",
     "text": [
      "{}\n"
     ]
    }
   ],
   "source": [
    "# clear() function clears all the entries in the dictionary\n",
    "dict.clear()\n",
    "print (dict)"
   ]
  },
  {
   "cell_type": "markdown",
   "metadata": {},
   "source": [
    "# Functions\n",
    "Funcionts are block of organized, reusable codes that are used to perform a single, related action. "
   ]
  },
  {
   "cell_type": "markdown",
   "metadata": {},
   "source": [
    "Function Example is in the below:\n",
    "\n",
    "def Funcname(Parameters):\n",
    "\n",
    "    \"\"\"Strings\"\"\"\n",
    "    statement(s)\n",
    "    return <value>"
   ]
  },
  {
   "cell_type": "markdown",
   "metadata": {},
   "source": [
    "Above syntax you can see that function starts with def, and Funcname means the function name, and (Parameters) define the function parameters, and then using colon (:) to mark the end of function header.\n",
    "Inside the function, you can see that \"\"\"Strings\"\"\" which documented what this function does. And in the end, after executing the statements returns a \"value\"."
   ]
  },
  {
   "cell_type": "code",
   "execution_count": 22,
   "metadata": {
    "collapsed": true
   },
   "outputs": [],
   "source": [
    "# Define a function that uses a string as a input parameter and print it out.\n",
    "def printstring(str):\n",
    "   \"\"\"This function prints the string which mention in the parameters\"\"\"\n",
    "   print (str)\n",
    "   return"
   ]
  },
  {
   "cell_type": "code",
   "execution_count": 27,
   "metadata": {},
   "outputs": [
    {
     "name": "stdout",
     "output_type": "stream",
     "text": [
      "Hello World!\n",
      "Today is Sunday, lets chill out!\n"
     ]
    }
   ],
   "source": [
    "# Test printstring function\n",
    "printstring(\"Hello World!\")\n",
    "printstring(\"Today is Sunday, lets chill out!\")"
   ]
  },
  {
   "cell_type": "code",
   "execution_count": 33,
   "metadata": {
    "collapsed": true
   },
   "outputs": [],
   "source": [
    "# Define a function that function results in some values and returns the value back\n",
    "def square(x):\n",
    "    \"\"\"This function square the parameter x\"\"\"\n",
    "    y= x * x\n",
    "    return y"
   ]
  },
  {
   "cell_type": "code",
   "execution_count": 34,
   "metadata": {},
   "outputs": [
    {
     "data": {
      "text/plain": [
       "9"
      ]
     },
     "execution_count": 34,
     "metadata": {},
     "output_type": "execute_result"
    }
   ],
   "source": [
    "# Test square function\n",
    "square(3)"
   ]
  },
  {
   "cell_type": "code",
   "execution_count": 40,
   "metadata": {},
   "outputs": [
    {
     "data": {
      "text/plain": [
       "9"
      ]
     },
     "execution_count": 40,
     "metadata": {},
     "output_type": "execute_result"
    }
   ],
   "source": [
    "# Keyword arguments are the arguemnts that you put in the function.\n",
    "# The caller will identify the arguments by the parameter name.\n",
    "square(x= 3) # the alternative way to do the square function with mentioned the parameter x"
   ]
  },
  {
   "cell_type": "code",
   "execution_count": 35,
   "metadata": {},
   "outputs": [
    {
     "name": "stdout",
     "output_type": "stream",
     "text": [
      "Help on function square in module __main__:\n",
      "\n",
      "square(x)\n",
      "    This function square the parameter x\n",
      "\n"
     ]
    }
   ],
   "source": [
    "# Since we define the square function, now we can use help function to look at square function definition\n",
    "help(square)"
   ]
  },
  {
   "cell_type": "code",
   "execution_count": 37,
   "metadata": {},
   "outputs": [],
   "source": [
    "# Define a function that changes the passed list.\n",
    "# You can see that if a parameter refers to within a function changes, it also reflects back in the calling function.\n",
    "def change(list1):\n",
    "    \"\"\"This function changes the passed list \"\"\"\n",
    "    print( \"The passed list before changed:\", list1)\n",
    "    list1[3]= 100\n",
    "    print( \"The passed list after changed:\", list1)\n",
    "    return"
   ]
  },
  {
   "cell_type": "code",
   "execution_count": 38,
   "metadata": {},
   "outputs": [
    {
     "name": "stdout",
     "output_type": "stream",
     "text": [
      "The passed list before changed: [1, 3, 5, 7, 9, 11]\n",
      "The passed list after changed: [1, 3, 5, 100, 9, 11]\n",
      "The passed list outside the change function [1, 3, 5, 100, 9, 11]\n"
     ]
    }
   ],
   "source": [
    "# Test change function\n",
    "list1= [1, 3, 5, 7, 9, 11]\n",
    "change(list1)\n",
    "print( \"The passed list outside the change function\", list1) # you can see that the parameter changes in the later list1"
   ]
  },
  {
   "cell_type": "code",
   "execution_count": 39,
   "metadata": {},
   "outputs": [
    {
     "ename": "TypeError",
     "evalue": "change() missing 1 required positional argument: 'list1'",
     "output_type": "error",
     "traceback": [
      "\u001b[0;31m---------------------------------------------------------------------------\u001b[0m",
      "\u001b[0;31mTypeError\u001b[0m                                 Traceback (most recent call last)",
      "\u001b[0;32m<ipython-input-39-960338a87971>\u001b[0m in \u001b[0;36m<module>\u001b[0;34m()\u001b[0m\n\u001b[1;32m      1\u001b[0m \u001b[0;31m# Required arguments are the arguments that need to pass in the function, if missing required arguments, the function will fail\u001b[0m\u001b[0;34m\u001b[0m\u001b[0;34m\u001b[0m\u001b[0m\n\u001b[0;32m----> 2\u001b[0;31m \u001b[0mchange\u001b[0m\u001b[0;34m(\u001b[0m\u001b[0;34m)\u001b[0m \u001b[0;31m# missing the required argument \"list1\" for change function causes the error\u001b[0m\u001b[0;34m\u001b[0m\u001b[0m\n\u001b[0m",
      "\u001b[0;31mTypeError\u001b[0m: change() missing 1 required positional argument: 'list1'"
     ]
    }
   ],
   "source": [
    "# Required arguments are the arguments that need to pass in the function.\n",
    "# If missing required arguments, the function will fail.\n",
    "change() # missing the required argument \"list1\" for change function causes the error"
   ]
  },
  {
   "cell_type": "code",
   "execution_count": 41,
   "metadata": {
    "collapsed": true
   },
   "outputs": [],
   "source": [
    "# Default arguments are the arguments that already defined in the function with assigned default value if a value is not provided in the function\n",
    "def basicinfo(name, gender= \"male\"):\n",
    "    print( \"Name:\", name)\n",
    "    print( \"Gender:\", gender)\n",
    "    return"
   ]
  },
  {
   "cell_type": "code",
   "execution_count": 42,
   "metadata": {},
   "outputs": [
    {
     "name": "stdout",
     "output_type": "stream",
     "text": [
      "Name: Jimmy\n",
      "Gender: male\n",
      "Name: Yubai\n",
      "Gender: female\n"
     ]
    }
   ],
   "source": [
    "# Test basicinfo function\n",
    "basicinfo(name= \"Jimmy\") # with default gender= \"male\"\n",
    "basicinfo(name= \"Yubai\", gender= \"female\") "
   ]
  },
  {
   "cell_type": "code",
   "execution_count": 50,
   "metadata": {},
   "outputs": [],
   "source": [
    "# An asterisk (*) is placed before the parametter name that holds the values of all nonkeyword variable arguments.\n",
    "# Define a function add all the parameters \n",
    "def add(*parameters):\n",
    "    res = 0\n",
    "    reslist = []\n",
    "    for i in parameters:\n",
    "        reslist.append(i)\n",
    "    print (reslist)\n",
    "    return sum(reslist)"
   ]
  },
  {
   "cell_type": "code",
   "execution_count": 51,
   "metadata": {},
   "outputs": [
    {
     "name": "stdout",
     "output_type": "stream",
     "text": [
      "[1, 3, 5]\n"
     ]
    },
    {
     "data": {
      "text/plain": [
       "9"
      ]
     },
     "execution_count": 51,
     "metadata": {},
     "output_type": "execute_result"
    }
   ],
   "source": [
    "# Test add function\n",
    "add(1, 3, 5)"
   ]
  },
  {
   "cell_type": "code",
   "execution_count": 52,
   "metadata": {},
   "outputs": [
    {
     "data": {
      "text/plain": [
       "11"
      ]
     },
     "execution_count": 52,
     "metadata": {},
     "output_type": "execute_result"
    }
   ],
   "source": [
    "# Anonymous Functions using like lambda to create small anonymous functions\n",
    "# lambda syntax: lambda [arg1 [,arg2,.....argn]]:expression\n",
    "y= lambda x: x * x + 2\n",
    "y(3)"
   ]
  },
  {
   "cell_type": "code",
   "execution_count": 59,
   "metadata": {},
   "outputs": [
    {
     "name": "stdout",
     "output_type": "stream",
     "text": [
      "the value of answer outside the function: 3\n",
      "the value of answer inside the function: 1\n"
     ]
    }
   ],
   "source": [
    "# Global and local vaiables affect the function:\n",
    "# Local variables are only accessed in the functions where they are declared, while global variables can accessed everywhere.\n",
    "answer= 3 # global variable\n",
    "def minus(x,y):\n",
    "    \"\"\"This function defines x minus y\"\"\"\n",
    "    answer= x - y\n",
    "    print(\"the value of answer inside the function:\", answer)\n",
    "    return\n",
    "print(\"the value of answer outside the function:\", answer)\n",
    "# Test the minus function\n",
    "minus(5, 4)\n",
    "    "
   ]
  },
  {
   "cell_type": "markdown",
   "metadata": {},
   "source": [
    "# Classes\n",
    "All attributes of a class that are function objects define corresponding methods of its instances. Which means that we can think classes as prototypes that defines the set of attributes that describes any objects in the function.\n",
    "\n",
    "A class is declared as follows\n",
    "\n",
    "class class_name:\n",
    "\n",
    "    Functions"
   ]
  },
  {
   "cell_type": "code",
   "execution_count": 89,
   "metadata": {},
   "outputs": [],
   "source": [
    "# Class Example\n",
    "# __init__() is a method, also called class constructor or initialization that it helps create a new instance of this class.\n",
    "# In def, first arguemnt is the self, and you don't need to include it when you call the methods\n",
    "class studentinfo:\n",
    "    def __init__(self, name, gender):\n",
    "        self.name= name\n",
    "        self.gender= gender \n",
    "    def display(self):\n",
    "        print(\"Name:\", self.name, \"Gender:\", self.gender)"
   ]
  },
  {
   "cell_type": "code",
   "execution_count": 90,
   "metadata": {},
   "outputs": [
    {
     "name": "stdout",
     "output_type": "stream",
     "text": [
      "Jimmy male\n",
      "Yubai female\n"
     ]
    }
   ],
   "source": [
    "# Test stduentinfo class by creating instance objects\n",
    "first= studentinfo(\"Jimmy\", \"male\")\n",
    "second= studentinfo(\"Yubai\", \"female\")\n",
    "print(first.name, first.gender)\n",
    "print(second.name, second.gender)"
   ]
  },
  {
   "cell_type": "code",
   "execution_count": 93,
   "metadata": {},
   "outputs": [
    {
     "name": "stdout",
     "output_type": "stream",
     "text": [
      "Name: Jimmy Gender: male\n"
     ]
    }
   ],
   "source": [
    "# Access the attributes\n",
    "first.display()"
   ]
  },
  {
   "cell_type": "code",
   "execution_count": 94,
   "metadata": {},
   "outputs": [
    {
     "data": {
      "text/plain": [
       "'Jimmy'"
      ]
     },
     "execution_count": 94,
     "metadata": {},
     "output_type": "execute_result"
    }
   ],
   "source": [
    "# getattr(obj, name[, default]) to get the attribute of object\n",
    "getattr(first, \"name\")"
   ]
  },
  {
   "cell_type": "code",
   "execution_count": 95,
   "metadata": {},
   "outputs": [
    {
     "data": {
      "text/plain": [
       "True"
      ]
     },
     "execution_count": 95,
     "metadata": {},
     "output_type": "execute_result"
    }
   ],
   "source": [
    "# hasattr(obj,name) to check the attribute exists or not\n",
    "hasattr(first, \"name\")"
   ]
  },
  {
   "cell_type": "code",
   "execution_count": 96,
   "metadata": {},
   "outputs": [
    {
     "name": "stdout",
     "output_type": "stream",
     "text": [
      "Jack male\n"
     ]
    }
   ],
   "source": [
    "# setattr(obj,name, value) to set an attribute, if it not exist, then it will creat a new one.\n",
    "setattr(first, \"name\", \"Jack\")\n",
    "print(first.name, first.gender)"
   ]
  },
  {
   "cell_type": "code",
   "execution_count": 134,
   "metadata": {},
   "outputs": [],
   "source": [
    "# Class Inheritance\n",
    "# We can create a class not from scratch but derives it from a pre-existing class by listing the parent class in parentheses after the new class name.\n",
    "# The child class can inherit the attributes of its parent class.\n",
    "\n",
    "# Syntax is in the below\n",
    "# class childclass(parentclass1, parentclass2,...):\n",
    "#       functions\n",
    "\n",
    "# Parent Class\n",
    "class student:\n",
    "    def work(self):\n",
    "        print(\"Doing homework\")\n",
    "# Child Class\n",
    "class Jimmy(student):\n",
    "    pass      "
   ]
  },
  {
   "cell_type": "code",
   "execution_count": 135,
   "metadata": {},
   "outputs": [
    {
     "name": "stdout",
     "output_type": "stream",
     "text": [
      "Doing homework\n"
     ]
    }
   ],
   "source": [
    "# Test class Jimmy\n",
    "Jimmy= Jimmy()\n",
    "Jimmy.work() # You can see that class Jimmy inherits its parent class student characteristics"
   ]
  },
  {
   "cell_type": "code",
   "execution_count": 139,
   "metadata": {},
   "outputs": [
    {
     "name": "stdout",
     "output_type": "stream",
     "text": [
      "This is child method\n"
     ]
    }
   ],
   "source": [
    "# Class Overriding\n",
    "# Child class can override methods from the parent class.\n",
    "\n",
    "# Parent Class\n",
    "class parent:\n",
    "    def testmethod(self):\n",
    "        print(\"This is parent method\")\n",
    "\n",
    "# Chil Class\n",
    "class child(parent):\n",
    "    def testmethod(self):\n",
    "        print(\"This is child method\")\n",
    "\n",
    "test= child() # create instance of child\n",
    "test.testmethod() # child class can override the testmethod "
   ]
  },
  {
   "cell_type": "code",
   "execution_count": 153,
   "metadata": {},
   "outputs": [
    {
     "ename": "AttributeError",
     "evalue": "'student' object has no attribute '__name'",
     "output_type": "error",
     "traceback": [
      "\u001b[0;31m---------------------------------------------------------------------------\u001b[0m",
      "\u001b[0;31mAttributeError\u001b[0m                            Traceback (most recent call last)",
      "\u001b[0;32m<ipython-input-153-d1fcf5315cd5>\u001b[0m in \u001b[0;36m<module>\u001b[0;34m()\u001b[0m\n\u001b[1;32m     10\u001b[0m \u001b[0;31m# Test data hiding class\u001b[0m\u001b[0;34m\u001b[0m\u001b[0;34m\u001b[0m\u001b[0m\n\u001b[1;32m     11\u001b[0m \u001b[0md\u001b[0m\u001b[0;34m=\u001b[0m \u001b[0mstudent\u001b[0m\u001b[0;34m(\u001b[0m\u001b[0;34m\"Dealia\"\u001b[0m\u001b[0;34m,\u001b[0m \u001b[0;34m\"Female\"\u001b[0m\u001b[0;34m)\u001b[0m\u001b[0;34m\u001b[0m\u001b[0m\n\u001b[0;32m---> 12\u001b[0;31m \u001b[0mprint\u001b[0m\u001b[0;34m(\u001b[0m\u001b[0md\u001b[0m\u001b[0;34m.\u001b[0m\u001b[0m__name\u001b[0m\u001b[0;34m)\u001b[0m \u001b[0;31m# data is invisible to outsiders\u001b[0m\u001b[0;34m\u001b[0m\u001b[0m\n\u001b[0m",
      "\u001b[0;31mAttributeError\u001b[0m: 'student' object has no attribute '__name'"
     ]
    }
   ],
   "source": [
    "# Data Hiding\n",
    "# If naming attributes with a double underscore prefix in the class, they will not be directly visible to outsiders.\n",
    "class student:\n",
    "    def __init__(self, name, gender):\n",
    "        self.__name= name\n",
    "        self.__gender= gender \n",
    "    def printinfo(self):\n",
    "        print(self.__name, \"is\", self.__gender)\n",
    "        \n",
    "# Test data hiding class\n",
    "d= student(\"Dealia\", \"Female\")\n",
    "print(d.__name) # data is invisible to outsiders\n"
   ]
  },
  {
   "cell_type": "markdown",
   "metadata": {},
   "source": [
    "# Reference"
   ]
  },
  {
   "cell_type": "markdown",
   "metadata": {},
   "source": [
    "1. https://www.tutorialspoint.com/python3/python_dictionary.htm \n",
    "2. http://nbviewer.jupyter.org/github/rajathkumarmp/Python-Lectures/blob/master/04.ipynb\n",
    "3. https://www.tutorialspoint.com/python3/python_functions.htm\n",
    "4. https://www.programiz.com/python-programming/function\n",
    "5. https://www.tutorialspoint.com/python3/python_classes_objects.htm\n",
    "6. http://nbviewer.jupyter.org/github/rajathkumarmp/Python-Lectures/blob/master/07.ipynb\n",
    "7. https://www.programiz.com/python-programming/class\n",
    "8. http://yangcongchufang.com/%E9%AB%98%E7%BA%A7python%E7%BC%96%E7%A8%8B%E5%9F%BA%E7%A1%80/python-object-class.html"
   ]
  }
 ],
 "metadata": {
  "kernelspec": {
   "display_name": "Python 3",
   "language": "python",
   "name": "python3"
  },
  "language_info": {
   "codemirror_mode": {
    "name": "ipython",
    "version": 3
   },
   "file_extension": ".py",
   "mimetype": "text/x-python",
   "name": "python",
   "nbconvert_exporter": "python",
   "pygments_lexer": "ipython3",
   "version": "3.6.1"
  }
 },
 "nbformat": 4,
 "nbformat_minor": 2
}
